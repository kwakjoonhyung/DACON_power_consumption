{
 "cells": [
  {
   "cell_type": "markdown",
   "id": "bef6c933-35be-4245-8173-b8def7245af1",
   "metadata": {},
   "source": [
    "## Import"
   ]
  },
  {
   "cell_type": "code",
   "execution_count": 1,
   "id": "a387eeff-a1bd-412a-ae2d-08daa61ca4d9",
   "metadata": {},
   "outputs": [],
   "source": [
    "import os\n",
    "import random\n",
    "from time import time\n",
    "from datetime import datetime"
   ]
  },
  {
   "cell_type": "code",
   "execution_count": 2,
   "id": "b63d66e1-6872-4604-bd23-631c8f336930",
   "metadata": {},
   "outputs": [],
   "source": [
    "from sklearn.ensemble import RandomForestRegressor\n",
    "import pandas as pd\n",
    "import numpy as np\n",
    "from tqdm import tqdm\n",
    "import joblib\n",
    "import xgboost as xgb\n",
    "from xgboost import XGBRegressor"
   ]
  },
  {
   "cell_type": "markdown",
   "id": "30ae6d6a-e2e3-4bc8-8b2a-e0754c24f785",
   "metadata": {},
   "source": [
    "## Fixed Random-Seed"
   ]
  },
  {
   "cell_type": "code",
   "execution_count": 3,
   "id": "c621efe7-4314-4cf0-9573-737fdf4fbdb1",
   "metadata": {},
   "outputs": [],
   "source": [
    "def seed_everything(seed):\n",
    "    random.seed(seed)\n",
    "    os.environ['PYTHONHASHSEED'] = str(seed)\n",
    "    np.random.seed(seed)\n",
    "\n",
    "seed_everything(42) # Seed 고정"
   ]
  },
  {
   "cell_type": "markdown",
   "id": "d4d86b62-9013-47e9-a6e6-336003d9ef37",
   "metadata": {},
   "source": [
    "## Load Data"
   ]
  },
  {
   "cell_type": "code",
   "execution_count": 4,
   "id": "7a99c5e1-6fa8-41f8-ba43-7da95411253d",
   "metadata": {},
   "outputs": [],
   "source": [
    "train_df = pd.read_csv('data/train.csv') \n",
    "test_df = pd.read_csv('data/test.csv')\n",
    "building_info = pd.read_csv('data/building_info.csv')"
   ]
  },
  {
   "cell_type": "code",
   "execution_count": 5,
   "id": "39254a00-dd87-4173-9765-37e1c435744c",
   "metadata": {},
   "outputs": [
    {
     "data": {
      "text/html": [
       "<div>\n",
       "<style scoped>\n",
       "    .dataframe tbody tr th:only-of-type {\n",
       "        vertical-align: middle;\n",
       "    }\n",
       "\n",
       "    .dataframe tbody tr th {\n",
       "        vertical-align: top;\n",
       "    }\n",
       "\n",
       "    .dataframe thead th {\n",
       "        text-align: right;\n",
       "    }\n",
       "</style>\n",
       "<table border=\"1\" class=\"dataframe\">\n",
       "  <thead>\n",
       "    <tr style=\"text-align: right;\">\n",
       "      <th></th>\n",
       "      <th>num_date_time</th>\n",
       "      <th>건물번호</th>\n",
       "      <th>일시</th>\n",
       "      <th>기온(C)</th>\n",
       "      <th>강수량(mm)</th>\n",
       "      <th>풍속(m/s)</th>\n",
       "      <th>습도(%)</th>\n",
       "      <th>일조(hr)</th>\n",
       "      <th>일사(MJ/m2)</th>\n",
       "      <th>전력소비량(kWh)</th>\n",
       "    </tr>\n",
       "  </thead>\n",
       "  <tbody>\n",
       "    <tr>\n",
       "      <th>0</th>\n",
       "      <td>1_20220601 00</td>\n",
       "      <td>1</td>\n",
       "      <td>20220601 00</td>\n",
       "      <td>18.6</td>\n",
       "      <td>NaN</td>\n",
       "      <td>0.9</td>\n",
       "      <td>42.0</td>\n",
       "      <td>NaN</td>\n",
       "      <td>NaN</td>\n",
       "      <td>1085.28</td>\n",
       "    </tr>\n",
       "    <tr>\n",
       "      <th>1</th>\n",
       "      <td>1_20220601 01</td>\n",
       "      <td>1</td>\n",
       "      <td>20220601 01</td>\n",
       "      <td>18.0</td>\n",
       "      <td>NaN</td>\n",
       "      <td>1.1</td>\n",
       "      <td>45.0</td>\n",
       "      <td>NaN</td>\n",
       "      <td>NaN</td>\n",
       "      <td>1047.36</td>\n",
       "    </tr>\n",
       "    <tr>\n",
       "      <th>2</th>\n",
       "      <td>1_20220601 02</td>\n",
       "      <td>1</td>\n",
       "      <td>20220601 02</td>\n",
       "      <td>17.7</td>\n",
       "      <td>NaN</td>\n",
       "      <td>1.5</td>\n",
       "      <td>45.0</td>\n",
       "      <td>NaN</td>\n",
       "      <td>NaN</td>\n",
       "      <td>974.88</td>\n",
       "    </tr>\n",
       "    <tr>\n",
       "      <th>3</th>\n",
       "      <td>1_20220601 03</td>\n",
       "      <td>1</td>\n",
       "      <td>20220601 03</td>\n",
       "      <td>16.7</td>\n",
       "      <td>NaN</td>\n",
       "      <td>1.4</td>\n",
       "      <td>48.0</td>\n",
       "      <td>NaN</td>\n",
       "      <td>NaN</td>\n",
       "      <td>953.76</td>\n",
       "    </tr>\n",
       "    <tr>\n",
       "      <th>4</th>\n",
       "      <td>1_20220601 04</td>\n",
       "      <td>1</td>\n",
       "      <td>20220601 04</td>\n",
       "      <td>18.4</td>\n",
       "      <td>NaN</td>\n",
       "      <td>2.8</td>\n",
       "      <td>43.0</td>\n",
       "      <td>NaN</td>\n",
       "      <td>NaN</td>\n",
       "      <td>986.40</td>\n",
       "    </tr>\n",
       "  </tbody>\n",
       "</table>\n",
       "</div>"
      ],
      "text/plain": [
       "   num_date_time  건물번호           일시  기온(C)  강수량(mm)  풍속(m/s)  습도(%)  일조(hr)  \\\n",
       "0  1_20220601 00     1  20220601 00   18.6      NaN      0.9   42.0     NaN   \n",
       "1  1_20220601 01     1  20220601 01   18.0      NaN      1.1   45.0     NaN   \n",
       "2  1_20220601 02     1  20220601 02   17.7      NaN      1.5   45.0     NaN   \n",
       "3  1_20220601 03     1  20220601 03   16.7      NaN      1.4   48.0     NaN   \n",
       "4  1_20220601 04     1  20220601 04   18.4      NaN      2.8   43.0     NaN   \n",
       "\n",
       "   일사(MJ/m2)  전력소비량(kWh)  \n",
       "0        NaN     1085.28  \n",
       "1        NaN     1047.36  \n",
       "2        NaN      974.88  \n",
       "3        NaN      953.76  \n",
       "4        NaN      986.40  "
      ]
     },
     "execution_count": 5,
     "metadata": {},
     "output_type": "execute_result"
    }
   ],
   "source": [
    "train_df.head()"
   ]
  },
  {
   "cell_type": "code",
   "execution_count": 6,
   "id": "5c762e5c-eb8c-413c-8138-95bb618eb6bc",
   "metadata": {},
   "outputs": [
    {
     "data": {
      "text/html": [
       "<div>\n",
       "<style scoped>\n",
       "    .dataframe tbody tr th:only-of-type {\n",
       "        vertical-align: middle;\n",
       "    }\n",
       "\n",
       "    .dataframe tbody tr th {\n",
       "        vertical-align: top;\n",
       "    }\n",
       "\n",
       "    .dataframe thead th {\n",
       "        text-align: right;\n",
       "    }\n",
       "</style>\n",
       "<table border=\"1\" class=\"dataframe\">\n",
       "  <thead>\n",
       "    <tr style=\"text-align: right;\">\n",
       "      <th></th>\n",
       "      <th>num_date_time</th>\n",
       "      <th>건물번호</th>\n",
       "      <th>일시</th>\n",
       "      <th>기온(C)</th>\n",
       "      <th>강수량(mm)</th>\n",
       "      <th>풍속(m/s)</th>\n",
       "      <th>습도(%)</th>\n",
       "    </tr>\n",
       "  </thead>\n",
       "  <tbody>\n",
       "    <tr>\n",
       "      <th>0</th>\n",
       "      <td>1_20220825 00</td>\n",
       "      <td>1</td>\n",
       "      <td>20220825 00</td>\n",
       "      <td>23.5</td>\n",
       "      <td>0.0</td>\n",
       "      <td>2.2</td>\n",
       "      <td>72</td>\n",
       "    </tr>\n",
       "    <tr>\n",
       "      <th>1</th>\n",
       "      <td>1_20220825 01</td>\n",
       "      <td>1</td>\n",
       "      <td>20220825 01</td>\n",
       "      <td>23.0</td>\n",
       "      <td>0.0</td>\n",
       "      <td>0.9</td>\n",
       "      <td>72</td>\n",
       "    </tr>\n",
       "    <tr>\n",
       "      <th>2</th>\n",
       "      <td>1_20220825 02</td>\n",
       "      <td>1</td>\n",
       "      <td>20220825 02</td>\n",
       "      <td>22.7</td>\n",
       "      <td>0.0</td>\n",
       "      <td>1.5</td>\n",
       "      <td>75</td>\n",
       "    </tr>\n",
       "    <tr>\n",
       "      <th>3</th>\n",
       "      <td>1_20220825 03</td>\n",
       "      <td>1</td>\n",
       "      <td>20220825 03</td>\n",
       "      <td>22.1</td>\n",
       "      <td>0.0</td>\n",
       "      <td>1.3</td>\n",
       "      <td>78</td>\n",
       "    </tr>\n",
       "    <tr>\n",
       "      <th>4</th>\n",
       "      <td>1_20220825 04</td>\n",
       "      <td>1</td>\n",
       "      <td>20220825 04</td>\n",
       "      <td>21.8</td>\n",
       "      <td>0.0</td>\n",
       "      <td>1.0</td>\n",
       "      <td>77</td>\n",
       "    </tr>\n",
       "  </tbody>\n",
       "</table>\n",
       "</div>"
      ],
      "text/plain": [
       "   num_date_time  건물번호           일시  기온(C)  강수량(mm)  풍속(m/s)  습도(%)\n",
       "0  1_20220825 00     1  20220825 00   23.5      0.0      2.2     72\n",
       "1  1_20220825 01     1  20220825 01   23.0      0.0      0.9     72\n",
       "2  1_20220825 02     1  20220825 02   22.7      0.0      1.5     75\n",
       "3  1_20220825 03     1  20220825 03   22.1      0.0      1.3     78\n",
       "4  1_20220825 04     1  20220825 04   21.8      0.0      1.0     77"
      ]
     },
     "execution_count": 6,
     "metadata": {},
     "output_type": "execute_result"
    }
   ],
   "source": [
    "test_df.head()"
   ]
  },
  {
   "cell_type": "code",
   "execution_count": 7,
   "id": "01902172-57d4-4678-a25f-0c1b7d66e39b",
   "metadata": {},
   "outputs": [
    {
     "data": {
      "text/html": [
       "<div>\n",
       "<style scoped>\n",
       "    .dataframe tbody tr th:only-of-type {\n",
       "        vertical-align: middle;\n",
       "    }\n",
       "\n",
       "    .dataframe tbody tr th {\n",
       "        vertical-align: top;\n",
       "    }\n",
       "\n",
       "    .dataframe thead th {\n",
       "        text-align: right;\n",
       "    }\n",
       "</style>\n",
       "<table border=\"1\" class=\"dataframe\">\n",
       "  <thead>\n",
       "    <tr style=\"text-align: right;\">\n",
       "      <th></th>\n",
       "      <th>건물번호</th>\n",
       "      <th>건물유형</th>\n",
       "      <th>연면적(m2)</th>\n",
       "      <th>냉방면적(m2)</th>\n",
       "      <th>태양광용량(kW)</th>\n",
       "      <th>ESS저장용량(kWh)</th>\n",
       "      <th>PCS용량(kW)</th>\n",
       "    </tr>\n",
       "  </thead>\n",
       "  <tbody>\n",
       "    <tr>\n",
       "      <th>0</th>\n",
       "      <td>1</td>\n",
       "      <td>건물기타</td>\n",
       "      <td>110634.00</td>\n",
       "      <td>39570.00</td>\n",
       "      <td>-</td>\n",
       "      <td>-</td>\n",
       "      <td>-</td>\n",
       "    </tr>\n",
       "    <tr>\n",
       "      <th>1</th>\n",
       "      <td>2</td>\n",
       "      <td>건물기타</td>\n",
       "      <td>122233.47</td>\n",
       "      <td>99000.00</td>\n",
       "      <td>-</td>\n",
       "      <td>-</td>\n",
       "      <td>-</td>\n",
       "    </tr>\n",
       "    <tr>\n",
       "      <th>2</th>\n",
       "      <td>3</td>\n",
       "      <td>건물기타</td>\n",
       "      <td>171243.00</td>\n",
       "      <td>113950.00</td>\n",
       "      <td>40</td>\n",
       "      <td>-</td>\n",
       "      <td>-</td>\n",
       "    </tr>\n",
       "    <tr>\n",
       "      <th>3</th>\n",
       "      <td>4</td>\n",
       "      <td>건물기타</td>\n",
       "      <td>74312.98</td>\n",
       "      <td>34419.62</td>\n",
       "      <td>60</td>\n",
       "      <td>-</td>\n",
       "      <td>-</td>\n",
       "    </tr>\n",
       "    <tr>\n",
       "      <th>4</th>\n",
       "      <td>5</td>\n",
       "      <td>건물기타</td>\n",
       "      <td>205884.00</td>\n",
       "      <td>150000.00</td>\n",
       "      <td>-</td>\n",
       "      <td>2557</td>\n",
       "      <td>1000</td>\n",
       "    </tr>\n",
       "  </tbody>\n",
       "</table>\n",
       "</div>"
      ],
      "text/plain": [
       "   건물번호  건물유형    연면적(m2)   냉방면적(m2) 태양광용량(kW) ESS저장용량(kWh) PCS용량(kW)\n",
       "0     1  건물기타  110634.00   39570.00         -            -         -\n",
       "1     2  건물기타  122233.47   99000.00         -            -         -\n",
       "2     3  건물기타  171243.00  113950.00        40            -         -\n",
       "3     4  건물기타   74312.98   34419.62        60            -         -\n",
       "4     5  건물기타  205884.00  150000.00         -         2557      1000"
      ]
     },
     "execution_count": 7,
     "metadata": {},
     "output_type": "execute_result"
    }
   ],
   "source": [
    "building_info.head()"
   ]
  },
  {
   "cell_type": "markdown",
   "id": "3c7aa96e-920b-4f03-bd1b-40decc36122a",
   "metadata": {
    "tags": []
   },
   "source": [
    "## Train & Test Data Pre-Processing"
   ]
  },
  {
   "cell_type": "markdown",
   "id": "cd8c4855-d4e6-479c-9daf-4319b1bccd89",
   "metadata": {
    "tags": []
   },
   "source": [
    "### (0) 한글 -> 영어로 번역"
   ]
  },
  {
   "cell_type": "markdown",
   "id": "b4ac389a-5872-4872-8f23-de356765cd77",
   "metadata": {},
   "source": [
    "#### `train_df`"
   ]
  },
  {
   "cell_type": "code",
   "execution_count": 8,
   "id": "dc6babef-66cb-4edb-879c-5bf7308b7b1d",
   "metadata": {},
   "outputs": [],
   "source": [
    "train_df = train_df.rename(columns={\n",
    "    '건물번호': 'building_number',\n",
    "    '일시': 'date_time',\n",
    "    '기온(C)': 'temperature',\n",
    "    '강수량(mm)': 'rainfall',\n",
    "    '풍속(m/s)': 'windspeed',\n",
    "    '습도(%)': 'humidity',\n",
    "    '일조(hr)': 'sunshine',\n",
    "    '일사(MJ/m2)': 'solar_radiation',\n",
    "    '전력소비량(kWh)': 'power_consumption'\n",
    "})"
   ]
  },
  {
   "cell_type": "code",
   "execution_count": 9,
   "id": "4476748c-3fbc-4ec3-89c5-98694794ee42",
   "metadata": {},
   "outputs": [
    {
     "data": {
      "text/html": [
       "<div>\n",
       "<style scoped>\n",
       "    .dataframe tbody tr th:only-of-type {\n",
       "        vertical-align: middle;\n",
       "    }\n",
       "\n",
       "    .dataframe tbody tr th {\n",
       "        vertical-align: top;\n",
       "    }\n",
       "\n",
       "    .dataframe thead th {\n",
       "        text-align: right;\n",
       "    }\n",
       "</style>\n",
       "<table border=\"1\" class=\"dataframe\">\n",
       "  <thead>\n",
       "    <tr style=\"text-align: right;\">\n",
       "      <th></th>\n",
       "      <th>num_date_time</th>\n",
       "      <th>building_number</th>\n",
       "      <th>date_time</th>\n",
       "      <th>temperature</th>\n",
       "      <th>rainfall</th>\n",
       "      <th>windspeed</th>\n",
       "      <th>humidity</th>\n",
       "      <th>sunshine</th>\n",
       "      <th>solar_radiation</th>\n",
       "      <th>power_consumption</th>\n",
       "    </tr>\n",
       "  </thead>\n",
       "  <tbody>\n",
       "    <tr>\n",
       "      <th>0</th>\n",
       "      <td>1_20220601 00</td>\n",
       "      <td>1</td>\n",
       "      <td>20220601 00</td>\n",
       "      <td>18.6</td>\n",
       "      <td>NaN</td>\n",
       "      <td>0.9</td>\n",
       "      <td>42.0</td>\n",
       "      <td>NaN</td>\n",
       "      <td>NaN</td>\n",
       "      <td>1085.28</td>\n",
       "    </tr>\n",
       "    <tr>\n",
       "      <th>1</th>\n",
       "      <td>1_20220601 01</td>\n",
       "      <td>1</td>\n",
       "      <td>20220601 01</td>\n",
       "      <td>18.0</td>\n",
       "      <td>NaN</td>\n",
       "      <td>1.1</td>\n",
       "      <td>45.0</td>\n",
       "      <td>NaN</td>\n",
       "      <td>NaN</td>\n",
       "      <td>1047.36</td>\n",
       "    </tr>\n",
       "    <tr>\n",
       "      <th>2</th>\n",
       "      <td>1_20220601 02</td>\n",
       "      <td>1</td>\n",
       "      <td>20220601 02</td>\n",
       "      <td>17.7</td>\n",
       "      <td>NaN</td>\n",
       "      <td>1.5</td>\n",
       "      <td>45.0</td>\n",
       "      <td>NaN</td>\n",
       "      <td>NaN</td>\n",
       "      <td>974.88</td>\n",
       "    </tr>\n",
       "    <tr>\n",
       "      <th>3</th>\n",
       "      <td>1_20220601 03</td>\n",
       "      <td>1</td>\n",
       "      <td>20220601 03</td>\n",
       "      <td>16.7</td>\n",
       "      <td>NaN</td>\n",
       "      <td>1.4</td>\n",
       "      <td>48.0</td>\n",
       "      <td>NaN</td>\n",
       "      <td>NaN</td>\n",
       "      <td>953.76</td>\n",
       "    </tr>\n",
       "    <tr>\n",
       "      <th>4</th>\n",
       "      <td>1_20220601 04</td>\n",
       "      <td>1</td>\n",
       "      <td>20220601 04</td>\n",
       "      <td>18.4</td>\n",
       "      <td>NaN</td>\n",
       "      <td>2.8</td>\n",
       "      <td>43.0</td>\n",
       "      <td>NaN</td>\n",
       "      <td>NaN</td>\n",
       "      <td>986.40</td>\n",
       "    </tr>\n",
       "  </tbody>\n",
       "</table>\n",
       "</div>"
      ],
      "text/plain": [
       "   num_date_time  building_number    date_time  temperature  rainfall  \\\n",
       "0  1_20220601 00                1  20220601 00         18.6       NaN   \n",
       "1  1_20220601 01                1  20220601 01         18.0       NaN   \n",
       "2  1_20220601 02                1  20220601 02         17.7       NaN   \n",
       "3  1_20220601 03                1  20220601 03         16.7       NaN   \n",
       "4  1_20220601 04                1  20220601 04         18.4       NaN   \n",
       "\n",
       "   windspeed  humidity  sunshine  solar_radiation  power_consumption  \n",
       "0        0.9      42.0       NaN              NaN            1085.28  \n",
       "1        1.1      45.0       NaN              NaN            1047.36  \n",
       "2        1.5      45.0       NaN              NaN             974.88  \n",
       "3        1.4      48.0       NaN              NaN             953.76  \n",
       "4        2.8      43.0       NaN              NaN             986.40  "
      ]
     },
     "execution_count": 9,
     "metadata": {},
     "output_type": "execute_result"
    }
   ],
   "source": [
    "train_df.head()"
   ]
  },
  {
   "cell_type": "markdown",
   "id": "3e6c3062-74fa-4515-b218-d406ade9d0f2",
   "metadata": {},
   "source": [
    "#### `test_df`"
   ]
  },
  {
   "cell_type": "code",
   "execution_count": 10,
   "id": "15b5cd89-9af6-4353-b0cf-66f73687f46c",
   "metadata": {},
   "outputs": [],
   "source": [
    "test_df = test_df.rename(columns={\n",
    "    '건물번호': 'building_number',\n",
    "    '일시': 'date_time',\n",
    "    '기온(C)': 'temperature',\n",
    "    '강수량(mm)': 'rainfall',\n",
    "    '풍속(m/s)': 'windspeed',\n",
    "    '습도(%)': 'humidity',\n",
    "    '일조(hr)': 'sunshine',\n",
    "    '일사(MJ/m2)': 'solar_radiation',\n",
    "    '전력소비량(kWh)': 'power_consumption'\n",
    "})"
   ]
  },
  {
   "cell_type": "code",
   "execution_count": 11,
   "id": "27bf8330-1312-4eb0-b870-c4a3ac0cd24f",
   "metadata": {},
   "outputs": [
    {
     "data": {
      "text/html": [
       "<div>\n",
       "<style scoped>\n",
       "    .dataframe tbody tr th:only-of-type {\n",
       "        vertical-align: middle;\n",
       "    }\n",
       "\n",
       "    .dataframe tbody tr th {\n",
       "        vertical-align: top;\n",
       "    }\n",
       "\n",
       "    .dataframe thead th {\n",
       "        text-align: right;\n",
       "    }\n",
       "</style>\n",
       "<table border=\"1\" class=\"dataframe\">\n",
       "  <thead>\n",
       "    <tr style=\"text-align: right;\">\n",
       "      <th></th>\n",
       "      <th>num_date_time</th>\n",
       "      <th>building_number</th>\n",
       "      <th>date_time</th>\n",
       "      <th>temperature</th>\n",
       "      <th>rainfall</th>\n",
       "      <th>windspeed</th>\n",
       "      <th>humidity</th>\n",
       "    </tr>\n",
       "  </thead>\n",
       "  <tbody>\n",
       "    <tr>\n",
       "      <th>0</th>\n",
       "      <td>1_20220825 00</td>\n",
       "      <td>1</td>\n",
       "      <td>20220825 00</td>\n",
       "      <td>23.5</td>\n",
       "      <td>0.0</td>\n",
       "      <td>2.2</td>\n",
       "      <td>72</td>\n",
       "    </tr>\n",
       "    <tr>\n",
       "      <th>1</th>\n",
       "      <td>1_20220825 01</td>\n",
       "      <td>1</td>\n",
       "      <td>20220825 01</td>\n",
       "      <td>23.0</td>\n",
       "      <td>0.0</td>\n",
       "      <td>0.9</td>\n",
       "      <td>72</td>\n",
       "    </tr>\n",
       "    <tr>\n",
       "      <th>2</th>\n",
       "      <td>1_20220825 02</td>\n",
       "      <td>1</td>\n",
       "      <td>20220825 02</td>\n",
       "      <td>22.7</td>\n",
       "      <td>0.0</td>\n",
       "      <td>1.5</td>\n",
       "      <td>75</td>\n",
       "    </tr>\n",
       "    <tr>\n",
       "      <th>3</th>\n",
       "      <td>1_20220825 03</td>\n",
       "      <td>1</td>\n",
       "      <td>20220825 03</td>\n",
       "      <td>22.1</td>\n",
       "      <td>0.0</td>\n",
       "      <td>1.3</td>\n",
       "      <td>78</td>\n",
       "    </tr>\n",
       "    <tr>\n",
       "      <th>4</th>\n",
       "      <td>1_20220825 04</td>\n",
       "      <td>1</td>\n",
       "      <td>20220825 04</td>\n",
       "      <td>21.8</td>\n",
       "      <td>0.0</td>\n",
       "      <td>1.0</td>\n",
       "      <td>77</td>\n",
       "    </tr>\n",
       "  </tbody>\n",
       "</table>\n",
       "</div>"
      ],
      "text/plain": [
       "   num_date_time  building_number    date_time  temperature  rainfall  \\\n",
       "0  1_20220825 00                1  20220825 00         23.5       0.0   \n",
       "1  1_20220825 01                1  20220825 01         23.0       0.0   \n",
       "2  1_20220825 02                1  20220825 02         22.7       0.0   \n",
       "3  1_20220825 03                1  20220825 03         22.1       0.0   \n",
       "4  1_20220825 04                1  20220825 04         21.8       0.0   \n",
       "\n",
       "   windspeed  humidity  \n",
       "0        2.2        72  \n",
       "1        0.9        72  \n",
       "2        1.5        75  \n",
       "3        1.3        78  \n",
       "4        1.0        77  "
      ]
     },
     "execution_count": 11,
     "metadata": {},
     "output_type": "execute_result"
    }
   ],
   "source": [
    "test_df.head()"
   ]
  },
  {
   "cell_type": "markdown",
   "id": "f620f4b3-b048-4e82-8091-8deeb5a6dd5c",
   "metadata": {},
   "source": [
    "#### `building_info`"
   ]
  },
  {
   "cell_type": "code",
   "execution_count": 12,
   "id": "de0b4e8d-ebec-46f8-961b-64670db330f5",
   "metadata": {},
   "outputs": [],
   "source": [
    "building_info = building_info.rename(columns={\n",
    "    '건물번호': 'building_number',\n",
    "    '건물유형': 'building_type',\n",
    "    '연면적(m2)': 'total_area',\n",
    "    '냉방면적(m2)': 'cooling_area',\n",
    "    '태양광용량(kW)': 'solar_power_capacity',\n",
    "    'ESS저장용량(kWh)': 'ess_capacity',\n",
    "    'PCS용량(kW)': 'pcs_capacity'\n",
    "})"
   ]
  },
  {
   "cell_type": "code",
   "execution_count": 13,
   "id": "cd943486-2117-439d-85b4-6450a98e4edd",
   "metadata": {},
   "outputs": [],
   "source": [
    "translation_dict = {\n",
    "    '건물기타': 'Other Buildings',\n",
    "    '공공': 'Public',\n",
    "    '대학교': 'University',\n",
    "    '데이터센터': 'Data Center',\n",
    "    '백화점및아울렛': 'Department Store and Outlet',\n",
    "    '병원': 'Hospital',\n",
    "    '상용': 'Commercial',\n",
    "    '아파트': 'Apartment',\n",
    "    '연구소': 'Research Institute',\n",
    "    '지식산업센터': 'Knowledge Industry Center',\n",
    "    '할인마트': 'Discount Mart',\n",
    "    '호텔및리조트': 'Hotel and Resort'\n",
    "}\n",
    "\n",
    "building_info['building_type'] = building_info['building_type'].replace(translation_dict)"
   ]
  },
  {
   "cell_type": "code",
   "execution_count": 14,
   "id": "1030007d-936b-4f9c-9422-e18c0e6c0b97",
   "metadata": {},
   "outputs": [
    {
     "data": {
      "text/html": [
       "<div>\n",
       "<style scoped>\n",
       "    .dataframe tbody tr th:only-of-type {\n",
       "        vertical-align: middle;\n",
       "    }\n",
       "\n",
       "    .dataframe tbody tr th {\n",
       "        vertical-align: top;\n",
       "    }\n",
       "\n",
       "    .dataframe thead th {\n",
       "        text-align: right;\n",
       "    }\n",
       "</style>\n",
       "<table border=\"1\" class=\"dataframe\">\n",
       "  <thead>\n",
       "    <tr style=\"text-align: right;\">\n",
       "      <th></th>\n",
       "      <th>building_number</th>\n",
       "      <th>building_type</th>\n",
       "      <th>total_area</th>\n",
       "      <th>cooling_area</th>\n",
       "      <th>solar_power_capacity</th>\n",
       "      <th>ess_capacity</th>\n",
       "      <th>pcs_capacity</th>\n",
       "    </tr>\n",
       "  </thead>\n",
       "  <tbody>\n",
       "    <tr>\n",
       "      <th>0</th>\n",
       "      <td>1</td>\n",
       "      <td>Other Buildings</td>\n",
       "      <td>110634.00</td>\n",
       "      <td>39570.00</td>\n",
       "      <td>-</td>\n",
       "      <td>-</td>\n",
       "      <td>-</td>\n",
       "    </tr>\n",
       "    <tr>\n",
       "      <th>1</th>\n",
       "      <td>2</td>\n",
       "      <td>Other Buildings</td>\n",
       "      <td>122233.47</td>\n",
       "      <td>99000.00</td>\n",
       "      <td>-</td>\n",
       "      <td>-</td>\n",
       "      <td>-</td>\n",
       "    </tr>\n",
       "    <tr>\n",
       "      <th>2</th>\n",
       "      <td>3</td>\n",
       "      <td>Other Buildings</td>\n",
       "      <td>171243.00</td>\n",
       "      <td>113950.00</td>\n",
       "      <td>40</td>\n",
       "      <td>-</td>\n",
       "      <td>-</td>\n",
       "    </tr>\n",
       "    <tr>\n",
       "      <th>3</th>\n",
       "      <td>4</td>\n",
       "      <td>Other Buildings</td>\n",
       "      <td>74312.98</td>\n",
       "      <td>34419.62</td>\n",
       "      <td>60</td>\n",
       "      <td>-</td>\n",
       "      <td>-</td>\n",
       "    </tr>\n",
       "    <tr>\n",
       "      <th>4</th>\n",
       "      <td>5</td>\n",
       "      <td>Other Buildings</td>\n",
       "      <td>205884.00</td>\n",
       "      <td>150000.00</td>\n",
       "      <td>-</td>\n",
       "      <td>2557</td>\n",
       "      <td>1000</td>\n",
       "    </tr>\n",
       "    <tr>\n",
       "      <th>...</th>\n",
       "      <td>...</td>\n",
       "      <td>...</td>\n",
       "      <td>...</td>\n",
       "      <td>...</td>\n",
       "      <td>...</td>\n",
       "      <td>...</td>\n",
       "      <td>...</td>\n",
       "    </tr>\n",
       "    <tr>\n",
       "      <th>95</th>\n",
       "      <td>96</td>\n",
       "      <td>Hotel and Resort</td>\n",
       "      <td>93314.00</td>\n",
       "      <td>60500.00</td>\n",
       "      <td>-</td>\n",
       "      <td>-</td>\n",
       "      <td>-</td>\n",
       "    </tr>\n",
       "    <tr>\n",
       "      <th>96</th>\n",
       "      <td>97</td>\n",
       "      <td>Hotel and Resort</td>\n",
       "      <td>55144.67</td>\n",
       "      <td>25880.00</td>\n",
       "      <td>-</td>\n",
       "      <td>-</td>\n",
       "      <td>-</td>\n",
       "    </tr>\n",
       "    <tr>\n",
       "      <th>97</th>\n",
       "      <td>98</td>\n",
       "      <td>Hotel and Resort</td>\n",
       "      <td>53578.62</td>\n",
       "      <td>17373.75</td>\n",
       "      <td>-</td>\n",
       "      <td>-</td>\n",
       "      <td>-</td>\n",
       "    </tr>\n",
       "    <tr>\n",
       "      <th>98</th>\n",
       "      <td>99</td>\n",
       "      <td>Hotel and Resort</td>\n",
       "      <td>53499.00</td>\n",
       "      <td>40636.00</td>\n",
       "      <td>-</td>\n",
       "      <td>-</td>\n",
       "      <td>-</td>\n",
       "    </tr>\n",
       "    <tr>\n",
       "      <th>99</th>\n",
       "      <td>100</td>\n",
       "      <td>Hotel and Resort</td>\n",
       "      <td>57497.84</td>\n",
       "      <td>40035.23</td>\n",
       "      <td>-</td>\n",
       "      <td>-</td>\n",
       "      <td>-</td>\n",
       "    </tr>\n",
       "  </tbody>\n",
       "</table>\n",
       "<p>100 rows × 7 columns</p>\n",
       "</div>"
      ],
      "text/plain": [
       "    building_number     building_type  total_area  cooling_area  \\\n",
       "0                 1   Other Buildings   110634.00      39570.00   \n",
       "1                 2   Other Buildings   122233.47      99000.00   \n",
       "2                 3   Other Buildings   171243.00     113950.00   \n",
       "3                 4   Other Buildings    74312.98      34419.62   \n",
       "4                 5   Other Buildings   205884.00     150000.00   \n",
       "..              ...               ...         ...           ...   \n",
       "95               96  Hotel and Resort    93314.00      60500.00   \n",
       "96               97  Hotel and Resort    55144.67      25880.00   \n",
       "97               98  Hotel and Resort    53578.62      17373.75   \n",
       "98               99  Hotel and Resort    53499.00      40636.00   \n",
       "99              100  Hotel and Resort    57497.84      40035.23   \n",
       "\n",
       "   solar_power_capacity ess_capacity pcs_capacity  \n",
       "0                     -            -            -  \n",
       "1                     -            -            -  \n",
       "2                    40            -            -  \n",
       "3                    60            -            -  \n",
       "4                     -         2557         1000  \n",
       "..                  ...          ...          ...  \n",
       "95                    -            -            -  \n",
       "96                    -            -            -  \n",
       "97                    -            -            -  \n",
       "98                    -            -            -  \n",
       "99                    -            -            -  \n",
       "\n",
       "[100 rows x 7 columns]"
      ]
     },
     "execution_count": 14,
     "metadata": {},
     "output_type": "execute_result"
    }
   ],
   "source": [
    "building_info"
   ]
  },
  {
   "cell_type": "markdown",
   "id": "43fc2c41-9b1d-4f03-b6d2-e2b51cfd00af",
   "metadata": {
    "tags": []
   },
   "source": [
    "### (1) `building_info`를 `train_df`와 `test_df`에 각각 병합 (기준 : `building_number`(건물번호))"
   ]
  },
  {
   "cell_type": "code",
   "execution_count": 15,
   "id": "ab2a3637-795f-494b-8e24-e7f93e973cd8",
   "metadata": {},
   "outputs": [],
   "source": [
    "train_df = pd.merge(train_df, building_info, on='building_number', how='left')\n",
    "test_df = pd.merge(test_df, building_info, on='building_number', how='left')"
   ]
  },
  {
   "cell_type": "code",
   "execution_count": 16,
   "id": "d917e10e-ddc8-4100-8e82-cfea0912b140",
   "metadata": {},
   "outputs": [
    {
     "data": {
      "text/html": [
       "<div>\n",
       "<style scoped>\n",
       "    .dataframe tbody tr th:only-of-type {\n",
       "        vertical-align: middle;\n",
       "    }\n",
       "\n",
       "    .dataframe tbody tr th {\n",
       "        vertical-align: top;\n",
       "    }\n",
       "\n",
       "    .dataframe thead th {\n",
       "        text-align: right;\n",
       "    }\n",
       "</style>\n",
       "<table border=\"1\" class=\"dataframe\">\n",
       "  <thead>\n",
       "    <tr style=\"text-align: right;\">\n",
       "      <th></th>\n",
       "      <th>num_date_time</th>\n",
       "      <th>building_number</th>\n",
       "      <th>date_time</th>\n",
       "      <th>temperature</th>\n",
       "      <th>rainfall</th>\n",
       "      <th>windspeed</th>\n",
       "      <th>humidity</th>\n",
       "      <th>sunshine</th>\n",
       "      <th>solar_radiation</th>\n",
       "      <th>power_consumption</th>\n",
       "      <th>building_type</th>\n",
       "      <th>total_area</th>\n",
       "      <th>cooling_area</th>\n",
       "      <th>solar_power_capacity</th>\n",
       "      <th>ess_capacity</th>\n",
       "      <th>pcs_capacity</th>\n",
       "    </tr>\n",
       "  </thead>\n",
       "  <tbody>\n",
       "    <tr>\n",
       "      <th>0</th>\n",
       "      <td>1_20220601 00</td>\n",
       "      <td>1</td>\n",
       "      <td>20220601 00</td>\n",
       "      <td>18.6</td>\n",
       "      <td>NaN</td>\n",
       "      <td>0.9</td>\n",
       "      <td>42.0</td>\n",
       "      <td>NaN</td>\n",
       "      <td>NaN</td>\n",
       "      <td>1085.28</td>\n",
       "      <td>Other Buildings</td>\n",
       "      <td>110634.0</td>\n",
       "      <td>39570.0</td>\n",
       "      <td>-</td>\n",
       "      <td>-</td>\n",
       "      <td>-</td>\n",
       "    </tr>\n",
       "    <tr>\n",
       "      <th>1</th>\n",
       "      <td>1_20220601 01</td>\n",
       "      <td>1</td>\n",
       "      <td>20220601 01</td>\n",
       "      <td>18.0</td>\n",
       "      <td>NaN</td>\n",
       "      <td>1.1</td>\n",
       "      <td>45.0</td>\n",
       "      <td>NaN</td>\n",
       "      <td>NaN</td>\n",
       "      <td>1047.36</td>\n",
       "      <td>Other Buildings</td>\n",
       "      <td>110634.0</td>\n",
       "      <td>39570.0</td>\n",
       "      <td>-</td>\n",
       "      <td>-</td>\n",
       "      <td>-</td>\n",
       "    </tr>\n",
       "    <tr>\n",
       "      <th>2</th>\n",
       "      <td>1_20220601 02</td>\n",
       "      <td>1</td>\n",
       "      <td>20220601 02</td>\n",
       "      <td>17.7</td>\n",
       "      <td>NaN</td>\n",
       "      <td>1.5</td>\n",
       "      <td>45.0</td>\n",
       "      <td>NaN</td>\n",
       "      <td>NaN</td>\n",
       "      <td>974.88</td>\n",
       "      <td>Other Buildings</td>\n",
       "      <td>110634.0</td>\n",
       "      <td>39570.0</td>\n",
       "      <td>-</td>\n",
       "      <td>-</td>\n",
       "      <td>-</td>\n",
       "    </tr>\n",
       "    <tr>\n",
       "      <th>3</th>\n",
       "      <td>1_20220601 03</td>\n",
       "      <td>1</td>\n",
       "      <td>20220601 03</td>\n",
       "      <td>16.7</td>\n",
       "      <td>NaN</td>\n",
       "      <td>1.4</td>\n",
       "      <td>48.0</td>\n",
       "      <td>NaN</td>\n",
       "      <td>NaN</td>\n",
       "      <td>953.76</td>\n",
       "      <td>Other Buildings</td>\n",
       "      <td>110634.0</td>\n",
       "      <td>39570.0</td>\n",
       "      <td>-</td>\n",
       "      <td>-</td>\n",
       "      <td>-</td>\n",
       "    </tr>\n",
       "    <tr>\n",
       "      <th>4</th>\n",
       "      <td>1_20220601 04</td>\n",
       "      <td>1</td>\n",
       "      <td>20220601 04</td>\n",
       "      <td>18.4</td>\n",
       "      <td>NaN</td>\n",
       "      <td>2.8</td>\n",
       "      <td>43.0</td>\n",
       "      <td>NaN</td>\n",
       "      <td>NaN</td>\n",
       "      <td>986.40</td>\n",
       "      <td>Other Buildings</td>\n",
       "      <td>110634.0</td>\n",
       "      <td>39570.0</td>\n",
       "      <td>-</td>\n",
       "      <td>-</td>\n",
       "      <td>-</td>\n",
       "    </tr>\n",
       "  </tbody>\n",
       "</table>\n",
       "</div>"
      ],
      "text/plain": [
       "   num_date_time  building_number    date_time  temperature  rainfall  \\\n",
       "0  1_20220601 00                1  20220601 00         18.6       NaN   \n",
       "1  1_20220601 01                1  20220601 01         18.0       NaN   \n",
       "2  1_20220601 02                1  20220601 02         17.7       NaN   \n",
       "3  1_20220601 03                1  20220601 03         16.7       NaN   \n",
       "4  1_20220601 04                1  20220601 04         18.4       NaN   \n",
       "\n",
       "   windspeed  humidity  sunshine  solar_radiation  power_consumption  \\\n",
       "0        0.9      42.0       NaN              NaN            1085.28   \n",
       "1        1.1      45.0       NaN              NaN            1047.36   \n",
       "2        1.5      45.0       NaN              NaN             974.88   \n",
       "3        1.4      48.0       NaN              NaN             953.76   \n",
       "4        2.8      43.0       NaN              NaN             986.40   \n",
       "\n",
       "     building_type  total_area  cooling_area solar_power_capacity  \\\n",
       "0  Other Buildings    110634.0       39570.0                    -   \n",
       "1  Other Buildings    110634.0       39570.0                    -   \n",
       "2  Other Buildings    110634.0       39570.0                    -   \n",
       "3  Other Buildings    110634.0       39570.0                    -   \n",
       "4  Other Buildings    110634.0       39570.0                    -   \n",
       "\n",
       "  ess_capacity pcs_capacity  \n",
       "0            -            -  \n",
       "1            -            -  \n",
       "2            -            -  \n",
       "3            -            -  \n",
       "4            -            -  "
      ]
     },
     "execution_count": 16,
     "metadata": {},
     "output_type": "execute_result"
    }
   ],
   "source": [
    "train_df.head()"
   ]
  },
  {
   "cell_type": "markdown",
   "id": "75c469b0-caf7-4c7f-a6fe-1ee370153ca4",
   "metadata": {
    "tags": []
   },
   "source": [
    "### (2) 결측치 처리"
   ]
  },
  {
   "cell_type": "code",
   "execution_count": 17,
   "id": "01053851-0935-4298-8d0d-4540a09f5fba",
   "metadata": {},
   "outputs": [
    {
     "data": {
      "text/plain": [
       "204000"
      ]
     },
     "execution_count": 17,
     "metadata": {},
     "output_type": "execute_result"
    }
   ],
   "source": [
    "len(train_df)"
   ]
  },
  {
   "cell_type": "code",
   "execution_count": 18,
   "id": "5f5895e4-2df4-43f8-83b3-8a1faa2b46fb",
   "metadata": {},
   "outputs": [
    {
     "data": {
      "text/plain": [
       "num_date_time                0\n",
       "building_number              0\n",
       "date_time                    0\n",
       "temperature                  0\n",
       "rainfall                160069\n",
       "windspeed                   19\n",
       "humidity                     9\n",
       "sunshine                 75182\n",
       "solar_radiation          87913\n",
       "power_consumption            0\n",
       "building_type                0\n",
       "total_area                   0\n",
       "cooling_area                 0\n",
       "solar_power_capacity         0\n",
       "ess_capacity                 0\n",
       "pcs_capacity                 0\n",
       "dtype: int64"
      ]
     },
     "execution_count": 18,
     "metadata": {},
     "output_type": "execute_result"
    }
   ],
   "source": [
    "train_df.isna().sum()"
   ]
  },
  {
   "cell_type": "code",
   "execution_count": 19,
   "id": "7f6f7991-1b85-41f3-8b47-ef49fd5bab65",
   "metadata": {},
   "outputs": [
    {
     "name": "stdout",
     "output_type": "stream",
     "text": [
      "130560\n",
      "193800\n",
      "193800\n"
     ]
    }
   ],
   "source": [
    "print(len(train_df[train_df['solar_power_capacity'] == '-']))\n",
    "print(len(train_df[train_df['ess_capacity'] == '-']))\n",
    "print(len(train_df[train_df['pcs_capacity'] == '-']))"
   ]
  },
  {
   "cell_type": "code",
   "execution_count": 20,
   "id": "1672996a-02d4-405a-8b5e-86ea8223ea4a",
   "metadata": {},
   "outputs": [
    {
     "data": {
      "text/plain": [
       "num_date_time           0\n",
       "building_number         0\n",
       "date_time               0\n",
       "temperature             0\n",
       "rainfall                0\n",
       "windspeed               0\n",
       "humidity                0\n",
       "building_type           0\n",
       "total_area              0\n",
       "cooling_area            0\n",
       "solar_power_capacity    0\n",
       "ess_capacity            0\n",
       "pcs_capacity            0\n",
       "dtype: int64"
      ]
     },
     "execution_count": 20,
     "metadata": {},
     "output_type": "execute_result"
    }
   ],
   "source": [
    "test_df.isna().sum()"
   ]
  },
  {
   "cell_type": "markdown",
   "id": "51c28991-89f1-4d4e-9fdc-35b3ea370369",
   "metadata": {},
   "source": [
    "- `rainfall`(강수량)을 제외하고, 결측치가 있거나, `\"-\"`로 표기된 부분은 해당 데이터가 0이었기 때문이라고 추정.\n",
    "    - `num_date_time` 데이터는 유의미한 데이터가 아니라고 판단하여 제외하여 사용하기 위해 drop 시킴\n",
    "    - 결측치와 `\"-\"`값을 0으로 바꿔줌"
   ]
  },
  {
   "cell_type": "markdown",
   "id": "02ce2e4b-3026-4553-847d-caf8f334ddc8",
   "metadata": {},
   "source": [
    "#### `train_df`"
   ]
  },
  {
   "cell_type": "code",
   "execution_count": 21,
   "id": "fdb49cb7-df1c-4add-8ff5-770f2d907b09",
   "metadata": {},
   "outputs": [],
   "source": [
    "# train_df.drop('rainfall', axis = 1, inplace=True)\n",
    "train_df.drop('num_date_time', axis = 1, inplace=True)"
   ]
  },
  {
   "cell_type": "code",
   "execution_count": 22,
   "id": "9531ecae-812a-4859-8a20-42258048b93a",
   "metadata": {},
   "outputs": [],
   "source": [
    "train_df.fillna(0, inplace=True)\n",
    "train_df.replace(\"-\", 0, inplace=True)"
   ]
  },
  {
   "cell_type": "code",
   "execution_count": 23,
   "id": "3c29cb7d-8b70-4ff5-9bf8-19b73df5873f",
   "metadata": {},
   "outputs": [
    {
     "data": {
      "text/html": [
       "<div>\n",
       "<style scoped>\n",
       "    .dataframe tbody tr th:only-of-type {\n",
       "        vertical-align: middle;\n",
       "    }\n",
       "\n",
       "    .dataframe tbody tr th {\n",
       "        vertical-align: top;\n",
       "    }\n",
       "\n",
       "    .dataframe thead th {\n",
       "        text-align: right;\n",
       "    }\n",
       "</style>\n",
       "<table border=\"1\" class=\"dataframe\">\n",
       "  <thead>\n",
       "    <tr style=\"text-align: right;\">\n",
       "      <th></th>\n",
       "      <th>building_number</th>\n",
       "      <th>date_time</th>\n",
       "      <th>temperature</th>\n",
       "      <th>rainfall</th>\n",
       "      <th>windspeed</th>\n",
       "      <th>humidity</th>\n",
       "      <th>sunshine</th>\n",
       "      <th>solar_radiation</th>\n",
       "      <th>power_consumption</th>\n",
       "      <th>building_type</th>\n",
       "      <th>total_area</th>\n",
       "      <th>cooling_area</th>\n",
       "      <th>solar_power_capacity</th>\n",
       "      <th>ess_capacity</th>\n",
       "      <th>pcs_capacity</th>\n",
       "    </tr>\n",
       "  </thead>\n",
       "  <tbody>\n",
       "    <tr>\n",
       "      <th>0</th>\n",
       "      <td>1</td>\n",
       "      <td>20220601 00</td>\n",
       "      <td>18.6</td>\n",
       "      <td>0.0</td>\n",
       "      <td>0.9</td>\n",
       "      <td>42.0</td>\n",
       "      <td>0.0</td>\n",
       "      <td>0.0</td>\n",
       "      <td>1085.28</td>\n",
       "      <td>Other Buildings</td>\n",
       "      <td>110634.0</td>\n",
       "      <td>39570.0</td>\n",
       "      <td>0</td>\n",
       "      <td>0</td>\n",
       "      <td>0</td>\n",
       "    </tr>\n",
       "    <tr>\n",
       "      <th>1</th>\n",
       "      <td>1</td>\n",
       "      <td>20220601 01</td>\n",
       "      <td>18.0</td>\n",
       "      <td>0.0</td>\n",
       "      <td>1.1</td>\n",
       "      <td>45.0</td>\n",
       "      <td>0.0</td>\n",
       "      <td>0.0</td>\n",
       "      <td>1047.36</td>\n",
       "      <td>Other Buildings</td>\n",
       "      <td>110634.0</td>\n",
       "      <td>39570.0</td>\n",
       "      <td>0</td>\n",
       "      <td>0</td>\n",
       "      <td>0</td>\n",
       "    </tr>\n",
       "    <tr>\n",
       "      <th>2</th>\n",
       "      <td>1</td>\n",
       "      <td>20220601 02</td>\n",
       "      <td>17.7</td>\n",
       "      <td>0.0</td>\n",
       "      <td>1.5</td>\n",
       "      <td>45.0</td>\n",
       "      <td>0.0</td>\n",
       "      <td>0.0</td>\n",
       "      <td>974.88</td>\n",
       "      <td>Other Buildings</td>\n",
       "      <td>110634.0</td>\n",
       "      <td>39570.0</td>\n",
       "      <td>0</td>\n",
       "      <td>0</td>\n",
       "      <td>0</td>\n",
       "    </tr>\n",
       "    <tr>\n",
       "      <th>3</th>\n",
       "      <td>1</td>\n",
       "      <td>20220601 03</td>\n",
       "      <td>16.7</td>\n",
       "      <td>0.0</td>\n",
       "      <td>1.4</td>\n",
       "      <td>48.0</td>\n",
       "      <td>0.0</td>\n",
       "      <td>0.0</td>\n",
       "      <td>953.76</td>\n",
       "      <td>Other Buildings</td>\n",
       "      <td>110634.0</td>\n",
       "      <td>39570.0</td>\n",
       "      <td>0</td>\n",
       "      <td>0</td>\n",
       "      <td>0</td>\n",
       "    </tr>\n",
       "    <tr>\n",
       "      <th>4</th>\n",
       "      <td>1</td>\n",
       "      <td>20220601 04</td>\n",
       "      <td>18.4</td>\n",
       "      <td>0.0</td>\n",
       "      <td>2.8</td>\n",
       "      <td>43.0</td>\n",
       "      <td>0.0</td>\n",
       "      <td>0.0</td>\n",
       "      <td>986.40</td>\n",
       "      <td>Other Buildings</td>\n",
       "      <td>110634.0</td>\n",
       "      <td>39570.0</td>\n",
       "      <td>0</td>\n",
       "      <td>0</td>\n",
       "      <td>0</td>\n",
       "    </tr>\n",
       "  </tbody>\n",
       "</table>\n",
       "</div>"
      ],
      "text/plain": [
       "   building_number    date_time  temperature  rainfall  windspeed  humidity  \\\n",
       "0                1  20220601 00         18.6       0.0        0.9      42.0   \n",
       "1                1  20220601 01         18.0       0.0        1.1      45.0   \n",
       "2                1  20220601 02         17.7       0.0        1.5      45.0   \n",
       "3                1  20220601 03         16.7       0.0        1.4      48.0   \n",
       "4                1  20220601 04         18.4       0.0        2.8      43.0   \n",
       "\n",
       "   sunshine  solar_radiation  power_consumption    building_type  total_area  \\\n",
       "0       0.0              0.0            1085.28  Other Buildings    110634.0   \n",
       "1       0.0              0.0            1047.36  Other Buildings    110634.0   \n",
       "2       0.0              0.0             974.88  Other Buildings    110634.0   \n",
       "3       0.0              0.0             953.76  Other Buildings    110634.0   \n",
       "4       0.0              0.0             986.40  Other Buildings    110634.0   \n",
       "\n",
       "   cooling_area solar_power_capacity ess_capacity pcs_capacity  \n",
       "0       39570.0                    0            0            0  \n",
       "1       39570.0                    0            0            0  \n",
       "2       39570.0                    0            0            0  \n",
       "3       39570.0                    0            0            0  \n",
       "4       39570.0                    0            0            0  "
      ]
     },
     "execution_count": 23,
     "metadata": {},
     "output_type": "execute_result"
    }
   ],
   "source": [
    "train_df.head()"
   ]
  },
  {
   "cell_type": "markdown",
   "id": "02011be4-2afb-4882-a11d-366489d5917b",
   "metadata": {},
   "source": [
    "#### `test_df`"
   ]
  },
  {
   "cell_type": "code",
   "execution_count": 24,
   "id": "0ea20d5b-037c-4a30-b433-5ebd0e8e1ca8",
   "metadata": {},
   "outputs": [],
   "source": [
    "# test_df.drop('rainfall', axis = 1, inplace=True)\n",
    "test_df.drop('num_date_time', axis = 1, inplace=True)"
   ]
  },
  {
   "cell_type": "code",
   "execution_count": 25,
   "id": "0b4058e6-f461-4517-abc9-f90f3ae34c97",
   "metadata": {},
   "outputs": [],
   "source": [
    "test_df.fillna(0, inplace=True)\n",
    "test_df.replace(\"-\", 0, inplace=True)"
   ]
  },
  {
   "cell_type": "code",
   "execution_count": 26,
   "id": "8ce3896a-ab9a-4423-bb42-c18e7c101649",
   "metadata": {},
   "outputs": [
    {
     "data": {
      "text/html": [
       "<div>\n",
       "<style scoped>\n",
       "    .dataframe tbody tr th:only-of-type {\n",
       "        vertical-align: middle;\n",
       "    }\n",
       "\n",
       "    .dataframe tbody tr th {\n",
       "        vertical-align: top;\n",
       "    }\n",
       "\n",
       "    .dataframe thead th {\n",
       "        text-align: right;\n",
       "    }\n",
       "</style>\n",
       "<table border=\"1\" class=\"dataframe\">\n",
       "  <thead>\n",
       "    <tr style=\"text-align: right;\">\n",
       "      <th></th>\n",
       "      <th>building_number</th>\n",
       "      <th>date_time</th>\n",
       "      <th>temperature</th>\n",
       "      <th>rainfall</th>\n",
       "      <th>windspeed</th>\n",
       "      <th>humidity</th>\n",
       "      <th>building_type</th>\n",
       "      <th>total_area</th>\n",
       "      <th>cooling_area</th>\n",
       "      <th>solar_power_capacity</th>\n",
       "      <th>ess_capacity</th>\n",
       "      <th>pcs_capacity</th>\n",
       "    </tr>\n",
       "  </thead>\n",
       "  <tbody>\n",
       "    <tr>\n",
       "      <th>0</th>\n",
       "      <td>1</td>\n",
       "      <td>20220825 00</td>\n",
       "      <td>23.5</td>\n",
       "      <td>0.0</td>\n",
       "      <td>2.2</td>\n",
       "      <td>72</td>\n",
       "      <td>Other Buildings</td>\n",
       "      <td>110634.0</td>\n",
       "      <td>39570.0</td>\n",
       "      <td>0</td>\n",
       "      <td>0</td>\n",
       "      <td>0</td>\n",
       "    </tr>\n",
       "    <tr>\n",
       "      <th>1</th>\n",
       "      <td>1</td>\n",
       "      <td>20220825 01</td>\n",
       "      <td>23.0</td>\n",
       "      <td>0.0</td>\n",
       "      <td>0.9</td>\n",
       "      <td>72</td>\n",
       "      <td>Other Buildings</td>\n",
       "      <td>110634.0</td>\n",
       "      <td>39570.0</td>\n",
       "      <td>0</td>\n",
       "      <td>0</td>\n",
       "      <td>0</td>\n",
       "    </tr>\n",
       "    <tr>\n",
       "      <th>2</th>\n",
       "      <td>1</td>\n",
       "      <td>20220825 02</td>\n",
       "      <td>22.7</td>\n",
       "      <td>0.0</td>\n",
       "      <td>1.5</td>\n",
       "      <td>75</td>\n",
       "      <td>Other Buildings</td>\n",
       "      <td>110634.0</td>\n",
       "      <td>39570.0</td>\n",
       "      <td>0</td>\n",
       "      <td>0</td>\n",
       "      <td>0</td>\n",
       "    </tr>\n",
       "    <tr>\n",
       "      <th>3</th>\n",
       "      <td>1</td>\n",
       "      <td>20220825 03</td>\n",
       "      <td>22.1</td>\n",
       "      <td>0.0</td>\n",
       "      <td>1.3</td>\n",
       "      <td>78</td>\n",
       "      <td>Other Buildings</td>\n",
       "      <td>110634.0</td>\n",
       "      <td>39570.0</td>\n",
       "      <td>0</td>\n",
       "      <td>0</td>\n",
       "      <td>0</td>\n",
       "    </tr>\n",
       "    <tr>\n",
       "      <th>4</th>\n",
       "      <td>1</td>\n",
       "      <td>20220825 04</td>\n",
       "      <td>21.8</td>\n",
       "      <td>0.0</td>\n",
       "      <td>1.0</td>\n",
       "      <td>77</td>\n",
       "      <td>Other Buildings</td>\n",
       "      <td>110634.0</td>\n",
       "      <td>39570.0</td>\n",
       "      <td>0</td>\n",
       "      <td>0</td>\n",
       "      <td>0</td>\n",
       "    </tr>\n",
       "  </tbody>\n",
       "</table>\n",
       "</div>"
      ],
      "text/plain": [
       "   building_number    date_time  temperature  rainfall  windspeed  humidity  \\\n",
       "0                1  20220825 00         23.5       0.0        2.2        72   \n",
       "1                1  20220825 01         23.0       0.0        0.9        72   \n",
       "2                1  20220825 02         22.7       0.0        1.5        75   \n",
       "3                1  20220825 03         22.1       0.0        1.3        78   \n",
       "4                1  20220825 04         21.8       0.0        1.0        77   \n",
       "\n",
       "     building_type  total_area  cooling_area solar_power_capacity  \\\n",
       "0  Other Buildings    110634.0       39570.0                    0   \n",
       "1  Other Buildings    110634.0       39570.0                    0   \n",
       "2  Other Buildings    110634.0       39570.0                    0   \n",
       "3  Other Buildings    110634.0       39570.0                    0   \n",
       "4  Other Buildings    110634.0       39570.0                    0   \n",
       "\n",
       "  ess_capacity pcs_capacity  \n",
       "0            0            0  \n",
       "1            0            0  \n",
       "2            0            0  \n",
       "3            0            0  \n",
       "4            0            0  "
      ]
     },
     "execution_count": 26,
     "metadata": {},
     "output_type": "execute_result"
    }
   ],
   "source": [
    "test_df.head()"
   ]
  },
  {
   "cell_type": "markdown",
   "id": "0fade245-d2c2-4c63-afd4-9f2eafc4ef1a",
   "metadata": {
    "tags": []
   },
   "source": [
    "### (3) `\"date_time\"` 처리\n",
    "`\"week\"`, `\"month\"`, `\"dayofyear\"`, `\"dayofweek\"`, `\"hour\"` 추출"
   ]
  },
  {
   "cell_type": "code",
   "execution_count": 27,
   "id": "8cec231b-ab39-4a46-b01f-70be638a848a",
   "metadata": {},
   "outputs": [],
   "source": [
    "train_df['date_time'] = pd.to_datetime(train_df['date_time'], format='%Y%m%d %H')\n",
    "\n",
    "# date time feature 생성\n",
    "train_df['hour'] = train_df['date_time'].dt.hour\n",
    "train_df['dayofweek'] = train_df['date_time'].dt.dayofweek\n",
    "train_df['dayofyear'] = train_df['date_time'].dt.dayofyear\n",
    "train_df['month'] = train_df['date_time'].dt.month\n",
    "train_df['week'] = train_df['date_time'].dt.isocalendar().week"
   ]
  },
  {
   "cell_type": "code",
   "execution_count": 28,
   "id": "aeac5fae-88dd-41b6-99f2-bf4e18408460",
   "metadata": {},
   "outputs": [],
   "source": [
    "test_df['date_time'] = pd.to_datetime(test_df['date_time'], format='%Y%m%d %H')\n",
    "\n",
    "# date time feature 생성\n",
    "test_df['hour'] = test_df['date_time'].dt.hour\n",
    "test_df['dayofweek'] = test_df['date_time'].dt.dayofweek\n",
    "test_df['dayofyear'] = test_df['date_time'].dt.dayofyear\n",
    "test_df['month'] = test_df['date_time'].dt.month\n",
    "test_df['week'] = test_df['date_time'].dt.isocalendar().week"
   ]
  },
  {
   "cell_type": "markdown",
   "id": "193ffcec-294d-440c-9f04-ea94ab6773e3",
   "metadata": {},
   "source": [
    "#### (3)-(1) 휴일 및 공휴일 여부 구하기"
   ]
  },
  {
   "cell_type": "code",
   "execution_count": 29,
   "id": "2038e158-1878-4ef1-9977-2abaafdd19ae",
   "metadata": {},
   "outputs": [],
   "source": [
    "# holiday_list = [\"2022-06-01\", \"2022-06-06\", \"2022-08-15\"] # 2022년 06월 01일부터 2022년 8월 31일까지 중 공휴일 및 국경일 리스트"
   ]
  },
  {
   "cell_type": "code",
   "execution_count": 30,
   "id": "0a191e38-4de8-4ee1-ac8b-ff2033670903",
   "metadata": {},
   "outputs": [],
   "source": [
    "# isHoliday_list = []\n",
    "\n",
    "# for i in range(len(train_df)):\n",
    "#     if train_df['dayofweek'][i] >= 5: # 토요일, 일요일\n",
    "#         isHoliday_list.append(1)\n",
    "#     elif str(train_df['date_time'][i])[:10] in holiday_list: # 공휴일, 국경일\n",
    "#         isHoliday_list.append(1)\n",
    "#     else:\n",
    "#         isHoliday_list.append(0)\n",
    "        \n",
    "# train_df[\"holiday\"] = isHoliday_list"
   ]
  },
  {
   "cell_type": "code",
   "execution_count": 31,
   "id": "cff5f965-87ef-480e-9d97-40aecbc0f4b0",
   "metadata": {},
   "outputs": [],
   "source": [
    "# isHoliday_list = []\n",
    "\n",
    "# for i in range(len(test_df)):\n",
    "#     if test_df['dayofweek'][i] >= 5: # 토요일, 일요일\n",
    "#         isHoliday_list.append(1)\n",
    "#     elif str(test_df['date_time'][i])[:10] in holiday_list: # 공휴일, 국경일\n",
    "#         isHoliday_list.append(1)\n",
    "#     else:\n",
    "#         isHoliday_list.append(0)\n",
    "        \n",
    "# test_df[\"holiday\"] = isHoliday_list"
   ]
  },
  {
   "cell_type": "markdown",
   "id": "6e4d64a5-e407-4298-b219-335dc40c7c98",
   "metadata": {},
   "source": [
    "#### (3)-(2) 순환성 추가 : Encoding Cyclical Features\n",
    "참고 : https://www.kaggle.com/code/avanwyk/encoding-cyclical-features-for-deep-learning"
   ]
  },
  {
   "cell_type": "markdown",
   "id": "cb7567d0-54a7-4716-ad43-b313e1f85cf4",
   "metadata": {},
   "source": [
    "##### `\"hour\"`데이터를 cos, sin으로 나타냄으로써 cyclical property 부여"
   ]
  },
  {
   "cell_type": "code",
   "execution_count": 32,
   "id": "dfc168bb-29da-4813-a55c-7f509e59749b",
   "metadata": {},
   "outputs": [],
   "source": [
    "train_df['hour_sin'] = np.sin(2 * np.pi * train_df[\"hour\"]/24.0)\n",
    "train_df['hour_cos'] = np.cos(2 * np.pi * train_df[\"hour\"]/24.0)"
   ]
  },
  {
   "cell_type": "code",
   "execution_count": 33,
   "id": "a4470590-5bb7-4ea2-8a9c-8a93c51c7e8d",
   "metadata": {},
   "outputs": [],
   "source": [
    "test_df['hour_sin'] = np.sin(2 * np.pi * test_df[\"hour\"]/24.0)\n",
    "test_df['hour_cos'] = np.cos(2 * np.pi * test_df[\"hour\"]/24.0)"
   ]
  },
  {
   "cell_type": "markdown",
   "id": "680147f4-8c14-481e-81de-88c1d8a691d2",
   "metadata": {},
   "source": [
    "#### (3)-(3) 사용하지 않는 열 삭제\n",
    "- `\"sunshine\"`('일조(hr)'), `\"solar_radiation\"`('일사(MJ/m2)')는 test_df에 존재하지 않으므로 학습 데이터에서 제외함\n",
    "- `\"hour\"` 데이터는 `\"hour_cos\"`, `\"hour_sin\"`으로 대체 가능하므로 삭제함"
   ]
  },
  {
   "cell_type": "code",
   "execution_count": 34,
   "id": "965aaa9a-55df-45ee-a377-df567d7328c5",
   "metadata": {},
   "outputs": [],
   "source": [
    "train_df.drop(columns=['sunshine', 'solar_radiation', 'hour'], inplace=True)"
   ]
  },
  {
   "cell_type": "code",
   "execution_count": 35,
   "id": "bab9325d-bc33-4313-9d8e-c0c94c099739",
   "metadata": {},
   "outputs": [],
   "source": [
    "test_df.drop(columns=['hour'], inplace=True)"
   ]
  },
  {
   "cell_type": "markdown",
   "id": "d9a3f126-2c6f-484b-9182-b20caca4bc80",
   "metadata": {},
   "source": [
    "### (4) CDH(cooling degree hour, 냉방도일) feature 추가\n",
    "- 냉방도일 : 기온이 실제 냉방 가동에 이르기까지의 시간적 오차"
   ]
  },
  {
   "cell_type": "code",
   "execution_count": 36,
   "id": "8ae6f390-f84c-4e48-afe3-e82af9211176",
   "metadata": {},
   "outputs": [],
   "source": [
    "# https://dacon.io/competitions/official/235736/codeshare/2743?page=1&dtype=recent\n",
    "def CDH(xs):\n",
    "    ys = []\n",
    "    for i in range(len(xs)):\n",
    "        if i < 11:\n",
    "            ys.append(np.sum(xs[:(i+1)]-26))\n",
    "        else:\n",
    "            ys.append(np.sum(xs[(i-11):(i+1)]-26))\n",
    "    return np.array(ys)"
   ]
  },
  {
   "cell_type": "code",
   "execution_count": 37,
   "id": "c58f47b0-5784-4279-870f-91357ff75591",
   "metadata": {},
   "outputs": [],
   "source": [
    "# https://dacon.io/competitions/official/235736/codeshare/2743?page=1&dtype=recent\n",
    "cdhs = np.array([])\n",
    "for building_number in range(1, 101, 1):\n",
    "    temp = train_df[train_df['building_number'] == building_number]\n",
    "    cdh = CDH(temp['temperature'].values)\n",
    "    cdhs = np.concatenate([cdhs, cdh])\n",
    "train_df['CDH'] = cdhs"
   ]
  },
  {
   "cell_type": "code",
   "execution_count": 38,
   "id": "fb7a7096-18c0-49ae-a0d9-a4553381c7f2",
   "metadata": {},
   "outputs": [],
   "source": [
    "# https://dacon.io/competitions/official/235736/codeshare/2743?page=1&dtype=recent\n",
    "cdhs = np.array([])\n",
    "for building_number in range(1, 101, 1):\n",
    "    temp = test_df[test_df['building_number'] == building_number]\n",
    "    cdh = CDH(temp['temperature'].values)\n",
    "    cdhs = np.concatenate([cdhs, cdh])\n",
    "test_df['CDH'] = cdhs"
   ]
  },
  {
   "cell_type": "code",
   "execution_count": 39,
   "id": "0331cd9d-f361-49ea-853f-a74ba2345347",
   "metadata": {},
   "outputs": [
    {
     "data": {
      "text/html": [
       "<div>\n",
       "<style scoped>\n",
       "    .dataframe tbody tr th:only-of-type {\n",
       "        vertical-align: middle;\n",
       "    }\n",
       "\n",
       "    .dataframe tbody tr th {\n",
       "        vertical-align: top;\n",
       "    }\n",
       "\n",
       "    .dataframe thead th {\n",
       "        text-align: right;\n",
       "    }\n",
       "</style>\n",
       "<table border=\"1\" class=\"dataframe\">\n",
       "  <thead>\n",
       "    <tr style=\"text-align: right;\">\n",
       "      <th></th>\n",
       "      <th>building_number</th>\n",
       "      <th>date_time</th>\n",
       "      <th>temperature</th>\n",
       "      <th>rainfall</th>\n",
       "      <th>windspeed</th>\n",
       "      <th>humidity</th>\n",
       "      <th>building_type</th>\n",
       "      <th>total_area</th>\n",
       "      <th>cooling_area</th>\n",
       "      <th>solar_power_capacity</th>\n",
       "      <th>ess_capacity</th>\n",
       "      <th>pcs_capacity</th>\n",
       "      <th>dayofweek</th>\n",
       "      <th>dayofyear</th>\n",
       "      <th>month</th>\n",
       "      <th>week</th>\n",
       "      <th>hour_sin</th>\n",
       "      <th>hour_cos</th>\n",
       "      <th>CDH</th>\n",
       "    </tr>\n",
       "  </thead>\n",
       "  <tbody>\n",
       "    <tr>\n",
       "      <th>0</th>\n",
       "      <td>1</td>\n",
       "      <td>2022-08-25 00:00:00</td>\n",
       "      <td>23.5</td>\n",
       "      <td>0.0</td>\n",
       "      <td>2.2</td>\n",
       "      <td>72</td>\n",
       "      <td>Other Buildings</td>\n",
       "      <td>110634.0</td>\n",
       "      <td>39570.0</td>\n",
       "      <td>0</td>\n",
       "      <td>0</td>\n",
       "      <td>0</td>\n",
       "      <td>3</td>\n",
       "      <td>237</td>\n",
       "      <td>8</td>\n",
       "      <td>34</td>\n",
       "      <td>0.000000</td>\n",
       "      <td>1.000000</td>\n",
       "      <td>-2.5</td>\n",
       "    </tr>\n",
       "    <tr>\n",
       "      <th>1</th>\n",
       "      <td>1</td>\n",
       "      <td>2022-08-25 01:00:00</td>\n",
       "      <td>23.0</td>\n",
       "      <td>0.0</td>\n",
       "      <td>0.9</td>\n",
       "      <td>72</td>\n",
       "      <td>Other Buildings</td>\n",
       "      <td>110634.0</td>\n",
       "      <td>39570.0</td>\n",
       "      <td>0</td>\n",
       "      <td>0</td>\n",
       "      <td>0</td>\n",
       "      <td>3</td>\n",
       "      <td>237</td>\n",
       "      <td>8</td>\n",
       "      <td>34</td>\n",
       "      <td>0.258819</td>\n",
       "      <td>0.965926</td>\n",
       "      <td>-5.5</td>\n",
       "    </tr>\n",
       "    <tr>\n",
       "      <th>2</th>\n",
       "      <td>1</td>\n",
       "      <td>2022-08-25 02:00:00</td>\n",
       "      <td>22.7</td>\n",
       "      <td>0.0</td>\n",
       "      <td>1.5</td>\n",
       "      <td>75</td>\n",
       "      <td>Other Buildings</td>\n",
       "      <td>110634.0</td>\n",
       "      <td>39570.0</td>\n",
       "      <td>0</td>\n",
       "      <td>0</td>\n",
       "      <td>0</td>\n",
       "      <td>3</td>\n",
       "      <td>237</td>\n",
       "      <td>8</td>\n",
       "      <td>34</td>\n",
       "      <td>0.500000</td>\n",
       "      <td>0.866025</td>\n",
       "      <td>-8.8</td>\n",
       "    </tr>\n",
       "    <tr>\n",
       "      <th>3</th>\n",
       "      <td>1</td>\n",
       "      <td>2022-08-25 03:00:00</td>\n",
       "      <td>22.1</td>\n",
       "      <td>0.0</td>\n",
       "      <td>1.3</td>\n",
       "      <td>78</td>\n",
       "      <td>Other Buildings</td>\n",
       "      <td>110634.0</td>\n",
       "      <td>39570.0</td>\n",
       "      <td>0</td>\n",
       "      <td>0</td>\n",
       "      <td>0</td>\n",
       "      <td>3</td>\n",
       "      <td>237</td>\n",
       "      <td>8</td>\n",
       "      <td>34</td>\n",
       "      <td>0.707107</td>\n",
       "      <td>0.707107</td>\n",
       "      <td>-12.7</td>\n",
       "    </tr>\n",
       "    <tr>\n",
       "      <th>4</th>\n",
       "      <td>1</td>\n",
       "      <td>2022-08-25 04:00:00</td>\n",
       "      <td>21.8</td>\n",
       "      <td>0.0</td>\n",
       "      <td>1.0</td>\n",
       "      <td>77</td>\n",
       "      <td>Other Buildings</td>\n",
       "      <td>110634.0</td>\n",
       "      <td>39570.0</td>\n",
       "      <td>0</td>\n",
       "      <td>0</td>\n",
       "      <td>0</td>\n",
       "      <td>3</td>\n",
       "      <td>237</td>\n",
       "      <td>8</td>\n",
       "      <td>34</td>\n",
       "      <td>0.866025</td>\n",
       "      <td>0.500000</td>\n",
       "      <td>-16.9</td>\n",
       "    </tr>\n",
       "  </tbody>\n",
       "</table>\n",
       "</div>"
      ],
      "text/plain": [
       "   building_number           date_time  temperature  rainfall  windspeed  \\\n",
       "0                1 2022-08-25 00:00:00         23.5       0.0        2.2   \n",
       "1                1 2022-08-25 01:00:00         23.0       0.0        0.9   \n",
       "2                1 2022-08-25 02:00:00         22.7       0.0        1.5   \n",
       "3                1 2022-08-25 03:00:00         22.1       0.0        1.3   \n",
       "4                1 2022-08-25 04:00:00         21.8       0.0        1.0   \n",
       "\n",
       "   humidity    building_type  total_area  cooling_area solar_power_capacity  \\\n",
       "0        72  Other Buildings    110634.0       39570.0                    0   \n",
       "1        72  Other Buildings    110634.0       39570.0                    0   \n",
       "2        75  Other Buildings    110634.0       39570.0                    0   \n",
       "3        78  Other Buildings    110634.0       39570.0                    0   \n",
       "4        77  Other Buildings    110634.0       39570.0                    0   \n",
       "\n",
       "  ess_capacity pcs_capacity  dayofweek  dayofyear  month  week  hour_sin  \\\n",
       "0            0            0          3        237      8    34  0.000000   \n",
       "1            0            0          3        237      8    34  0.258819   \n",
       "2            0            0          3        237      8    34  0.500000   \n",
       "3            0            0          3        237      8    34  0.707107   \n",
       "4            0            0          3        237      8    34  0.866025   \n",
       "\n",
       "   hour_cos   CDH  \n",
       "0  1.000000  -2.5  \n",
       "1  0.965926  -5.5  \n",
       "2  0.866025  -8.8  \n",
       "3  0.707107 -12.7  \n",
       "4  0.500000 -16.9  "
      ]
     },
     "execution_count": 39,
     "metadata": {},
     "output_type": "execute_result"
    }
   ],
   "source": [
    "test_df.head()"
   ]
  },
  {
   "cell_type": "markdown",
   "id": "2f0ad7c3-7f16-4f8d-a0bc-44fa7448c38e",
   "metadata": {},
   "source": [
    "### (5) 불쾌지수(THI; Temperature-Humidity Index) feature 추가"
   ]
  },
  {
   "cell_type": "code",
   "execution_count": 40,
   "id": "2d7d04f6-3301-409a-8f6b-2f9528c95614",
   "metadata": {},
   "outputs": [],
   "source": [
    "train_df['THI'] = 9/5 * train_df['temperature'] - 0.55 * (1 - train_df['humidity'] / 100) * (9/5 * train_df['temperature'] - 26) + 32\n",
    "# train_df['THI_level'] = pd.cut(train_df['THI'], bins = [0, 68, 75, 80, 200], labels = [1,2,3,4])"
   ]
  },
  {
   "cell_type": "code",
   "execution_count": 41,
   "id": "e64a0fb4-a030-4f23-af24-f2e128030753",
   "metadata": {},
   "outputs": [],
   "source": [
    "test_df['THI'] = 9/5 * test_df['temperature'] - 0.55 * (1 - test_df['humidity'] / 100) * (9/5 * test_df['temperature'] - 26) + 32\n",
    "# test_df['THI_level'] = pd.cut(test_df['THI'], bins = [0, 68, 75, 80, 200], labels = [1,2,3,4])"
   ]
  },
  {
   "cell_type": "markdown",
   "id": "ce1003cd-9c1e-46bf-bc00-7ab8f301e499",
   "metadata": {},
   "source": [
    "<!-- 불쾌지수 수치 값(`\"THI\"`)을 사용하지 않고, **불쾌지수 단계**(`\"THI_level\"`)를 사용한다면, `\"THI\"` 데이터 열 삭제 -->"
   ]
  },
  {
   "cell_type": "code",
   "execution_count": 42,
   "id": "08dbf805-7b8e-43bd-9183-d6649d575c38",
   "metadata": {},
   "outputs": [],
   "source": [
    "# train_df.drop(columns=['THI'], inplace=True)"
   ]
  },
  {
   "cell_type": "code",
   "execution_count": 43,
   "id": "7ba57132-ce81-4158-8ca1-7d64187cf798",
   "metadata": {},
   "outputs": [],
   "source": [
    "# test_df.drop(columns=['THI'], inplace=True)"
   ]
  },
  {
   "cell_type": "markdown",
   "id": "3a3dd531-6bfc-40d1-85c7-23bce6da4f0d",
   "metadata": {
    "tags": []
   },
   "source": [
    "### (6) 마지막 일주일 데이터를 Validation Data로 사용"
   ]
  },
  {
   "cell_type": "code",
   "execution_count": 44,
   "id": "1a274a20-1bd5-4e41-8830-49d110413bc4",
   "metadata": {},
   "outputs": [],
   "source": [
    "# validation_date_list = [\"2022-08-24\", \"2022-08-23\", \"2022-08-22\", \"2022-08-21\", \"2022-08-20\", \"2022-08-19\", \"2022-08-18\"]"
   ]
  },
  {
   "cell_type": "code",
   "execution_count": 45,
   "id": "8266b18d-2dd2-4c36-9ded-601d1126fcfa",
   "metadata": {},
   "outputs": [],
   "source": [
    "# origin_train_df = train_df.copy()"
   ]
  },
  {
   "cell_type": "code",
   "execution_count": 46,
   "id": "5f37001b-82a1-42c4-87be-192bdaf5152a",
   "metadata": {},
   "outputs": [],
   "source": [
    "# for i in tqdm(range(len(origin_train_df))):\n",
    "#     if str(origin_train_df[\"date_time\"][i])[:10] in validation_date_list:\n",
    "#         train_df.drop([i], inplace=True)\n",
    "#     else:\n",
    "#         valid_df.drop([i], inplace=True)"
   ]
  },
  {
   "cell_type": "code",
   "execution_count": 47,
   "id": "9037f2a8-a8f9-466e-93c1-59c4af77dc8a",
   "metadata": {},
   "outputs": [],
   "source": [
    "# train_df"
   ]
  },
  {
   "cell_type": "code",
   "execution_count": 48,
   "id": "0dced7eb-bc51-48af-8f75-38289a95710c",
   "metadata": {},
   "outputs": [],
   "source": [
    "# train_index_list = []\n",
    "# valid_index_list = []\n",
    "\n",
    "# for i in tqdm(range(len(origin_train_df))):\n",
    "#     if str(origin_train_df[\"date_time\"][i])[:10] in validation_date_list:\n",
    "#         valid_index_list.append(i)\n",
    "#     else:\n",
    "#         train_index_list.append(i)\n",
    "        \n",
    "# train_df = origin_train_df.drop(valid_index_list, inplace=False)\n",
    "# valid_df = origin_train_df.drop(train_index_list, inplace=False)"
   ]
  },
  {
   "cell_type": "code",
   "execution_count": 49,
   "id": "edec2983-429b-4627-94d5-c8dab1970830",
   "metadata": {},
   "outputs": [],
   "source": [
    "# # 인덱스 재설정\n",
    "# train_df.reset_index(drop=True, inplace=True)\n",
    "# valid_df.reset_index(drop=True, inplace=True)"
   ]
  },
  {
   "cell_type": "code",
   "execution_count": 50,
   "id": "d779597f-03a9-49c5-8468-efb57692831a",
   "metadata": {},
   "outputs": [],
   "source": [
    "# len(train_df), len(valid_df)"
   ]
  },
  {
   "cell_type": "markdown",
   "id": "fb15a891-95cf-43b4-bf79-00f7c36846c6",
   "metadata": {},
   "source": [
    "### (6) One hot encoding 생성"
   ]
  },
  {
   "cell_type": "markdown",
   "id": "030e9e8c-0705-47d0-b020-3b0af4b65f38",
   "metadata": {},
   "source": [
    "#### (6)-(1) 건물번호 (`\"building_number\"`)"
   ]
  },
  {
   "cell_type": "code",
   "execution_count": 51,
   "id": "e80c7695-cae4-4b82-922c-9f54ceca5ef1",
   "metadata": {},
   "outputs": [],
   "source": [
    "# train_df = pd.get_dummies(train_df, columns=['building_number'], drop_first=True)"
   ]
  },
  {
   "cell_type": "code",
   "execution_count": 52,
   "id": "e8650b93-2463-4d05-986d-1a942d72979d",
   "metadata": {},
   "outputs": [],
   "source": [
    "# test_df = pd.get_dummies(test_df, columns=['building_number'], drop_first=True)"
   ]
  },
  {
   "cell_type": "markdown",
   "id": "8863404c-390e-4a8d-8ece-9fdffcc2fbee",
   "metadata": {},
   "source": [
    "#### (6)-(2) 건물유형 (`\"building_type\"`)\n",
    "- 건물유형마다 모델링을 한다면, `\"building_type\"`를 기준으로 **one hot encoding을 생성하지 않아도 됨**"
   ]
  },
  {
   "cell_type": "code",
   "execution_count": 53,
   "id": "d53d7bb0-5dca-4b9a-b16c-e2ca0b4b55d3",
   "metadata": {},
   "outputs": [],
   "source": [
    "train_df = pd.get_dummies(train_df, columns=['building_type'], drop_first=True)"
   ]
  },
  {
   "cell_type": "code",
   "execution_count": 54,
   "id": "69b3cafd-9285-4ac8-9a5b-f444ca916647",
   "metadata": {},
   "outputs": [],
   "source": [
    "test_df = pd.get_dummies(test_df, columns=['building_type'], drop_first=True)"
   ]
  },
  {
   "cell_type": "code",
   "execution_count": 55,
   "id": "fd06f971-9fd1-4196-b352-8b085a42ad9f",
   "metadata": {},
   "outputs": [],
   "source": [
    "# train_df.drop(columns=['building_type'], inplace=True)"
   ]
  },
  {
   "cell_type": "code",
   "execution_count": 56,
   "id": "413ad534-c635-4be0-a0c1-9bbef9b40ee9",
   "metadata": {},
   "outputs": [],
   "source": [
    "# test_df.drop(columns=['building_type'], inplace=True)"
   ]
  },
  {
   "cell_type": "markdown",
   "id": "c2305e61-883d-4a1b-89ac-d8dc92e0223e",
   "metadata": {},
   "source": [
    "### (7) 냉방 면적 대비 연면적 feature 추가 (AR : Area Ratio)"
   ]
  },
  {
   "cell_type": "code",
   "execution_count": 57,
   "id": "8d812b91-9e2b-4a72-8b05-3493a18c1c26",
   "metadata": {},
   "outputs": [],
   "source": [
    "train_df['AR'] = train_df['cooling_area'] / train_df['total_area']"
   ]
  },
  {
   "cell_type": "code",
   "execution_count": 58,
   "id": "a385275b-be22-4fb4-a128-b31793b78581",
   "metadata": {},
   "outputs": [],
   "source": [
    "test_df['AR'] = test_df['cooling_area'] / test_df['total_area']"
   ]
  },
  {
   "cell_type": "markdown",
   "id": "48794f59-77a3-4825-9f3e-40394dea8afb",
   "metadata": {},
   "source": [
    "### (8) capacity 관련 열 삭제"
   ]
  },
  {
   "cell_type": "code",
   "execution_count": 59,
   "id": "90c8bd45-313d-4a6b-9628-40aad6e05267",
   "metadata": {},
   "outputs": [],
   "source": [
    "# train_df.drop(columns=['solar_power_capacity', 'ess_capacity', 'pcs_capacity'], inplace=True)"
   ]
  },
  {
   "cell_type": "code",
   "execution_count": 60,
   "id": "56ed9791-75be-4802-9f49-373b8aecb98a",
   "metadata": {},
   "outputs": [],
   "source": [
    "# test_df.drop(columns=['solar_power_capacity', 'ess_capacity', 'pcs_capacity'], inplace=True)"
   ]
  },
  {
   "cell_type": "code",
   "execution_count": 61,
   "id": "ad1cfdbc-7da5-485c-b25a-01f022a19eb2",
   "metadata": {},
   "outputs": [],
   "source": [
    "# train_df['solar_power_capacity'] = train_df['solar_power_capacity'].astype(float)\n",
    "# train_df['ess_capacity'] = train_df['ess_capacity'].astype(float)\n",
    "# train_df['pcs_capacity'] = train_df['pcs_capacity'].astype(float)"
   ]
  },
  {
   "cell_type": "code",
   "execution_count": 62,
   "id": "fb6cfe97-f11b-4b27-a76c-cf129dbfc293",
   "metadata": {},
   "outputs": [],
   "source": [
    "# test_df['solar_power_capacity'] = test_df['solar_power_capacity'].astype(float)\n",
    "# test_df['ess_capacity'] = test_df['ess_capacity'].astype(float)\n",
    "# test_df['pcs_capacity'] = test_df['pcs_capacity'].astype(float)"
   ]
  },
  {
   "cell_type": "markdown",
   "id": "2a11aed1-e986-49a2-a361-8c88fd0fb849",
   "metadata": {},
   "source": [
    "### (8) month 열 삭제"
   ]
  },
  {
   "cell_type": "code",
   "execution_count": 63,
   "id": "e625c507-30e7-4eea-8d45-ef122da97ca0",
   "metadata": {},
   "outputs": [],
   "source": [
    "train_df.drop(columns=['month'], inplace=True)"
   ]
  },
  {
   "cell_type": "code",
   "execution_count": 64,
   "id": "1e56841e-cc12-4c94-8c46-f67165b9eecc",
   "metadata": {},
   "outputs": [],
   "source": [
    "test_df.drop(columns=['month'], inplace=True)"
   ]
  },
  {
   "cell_type": "code",
   "execution_count": 65,
   "id": "cfc5147b-b901-4433-8961-a00ee64fa10c",
   "metadata": {},
   "outputs": [
    {
     "data": {
      "text/html": [
       "<div>\n",
       "<style scoped>\n",
       "    .dataframe tbody tr th:only-of-type {\n",
       "        vertical-align: middle;\n",
       "    }\n",
       "\n",
       "    .dataframe tbody tr th {\n",
       "        vertical-align: top;\n",
       "    }\n",
       "\n",
       "    .dataframe thead th {\n",
       "        text-align: right;\n",
       "    }\n",
       "</style>\n",
       "<table border=\"1\" class=\"dataframe\">\n",
       "  <thead>\n",
       "    <tr style=\"text-align: right;\">\n",
       "      <th></th>\n",
       "      <th>building_number</th>\n",
       "      <th>date_time</th>\n",
       "      <th>temperature</th>\n",
       "      <th>rainfall</th>\n",
       "      <th>windspeed</th>\n",
       "      <th>humidity</th>\n",
       "      <th>power_consumption</th>\n",
       "      <th>total_area</th>\n",
       "      <th>cooling_area</th>\n",
       "      <th>solar_power_capacity</th>\n",
       "      <th>...</th>\n",
       "      <th>building_type_Department Store and Outlet</th>\n",
       "      <th>building_type_Discount Mart</th>\n",
       "      <th>building_type_Hospital</th>\n",
       "      <th>building_type_Hotel and Resort</th>\n",
       "      <th>building_type_Knowledge Industry Center</th>\n",
       "      <th>building_type_Other Buildings</th>\n",
       "      <th>building_type_Public</th>\n",
       "      <th>building_type_Research Institute</th>\n",
       "      <th>building_type_University</th>\n",
       "      <th>AR</th>\n",
       "    </tr>\n",
       "  </thead>\n",
       "  <tbody>\n",
       "    <tr>\n",
       "      <th>0</th>\n",
       "      <td>1</td>\n",
       "      <td>2022-06-01 00:00:00</td>\n",
       "      <td>18.6</td>\n",
       "      <td>0.0</td>\n",
       "      <td>0.9</td>\n",
       "      <td>42.0</td>\n",
       "      <td>1085.28</td>\n",
       "      <td>110634.0</td>\n",
       "      <td>39570.0</td>\n",
       "      <td>0</td>\n",
       "      <td>...</td>\n",
       "      <td>0</td>\n",
       "      <td>0</td>\n",
       "      <td>0</td>\n",
       "      <td>0</td>\n",
       "      <td>0</td>\n",
       "      <td>1</td>\n",
       "      <td>0</td>\n",
       "      <td>0</td>\n",
       "      <td>0</td>\n",
       "      <td>0.357666</td>\n",
       "    </tr>\n",
       "    <tr>\n",
       "      <th>1</th>\n",
       "      <td>1</td>\n",
       "      <td>2022-06-01 01:00:00</td>\n",
       "      <td>18.0</td>\n",
       "      <td>0.0</td>\n",
       "      <td>1.1</td>\n",
       "      <td>45.0</td>\n",
       "      <td>1047.36</td>\n",
       "      <td>110634.0</td>\n",
       "      <td>39570.0</td>\n",
       "      <td>0</td>\n",
       "      <td>...</td>\n",
       "      <td>0</td>\n",
       "      <td>0</td>\n",
       "      <td>0</td>\n",
       "      <td>0</td>\n",
       "      <td>0</td>\n",
       "      <td>1</td>\n",
       "      <td>0</td>\n",
       "      <td>0</td>\n",
       "      <td>0</td>\n",
       "      <td>0.357666</td>\n",
       "    </tr>\n",
       "    <tr>\n",
       "      <th>2</th>\n",
       "      <td>1</td>\n",
       "      <td>2022-06-01 02:00:00</td>\n",
       "      <td>17.7</td>\n",
       "      <td>0.0</td>\n",
       "      <td>1.5</td>\n",
       "      <td>45.0</td>\n",
       "      <td>974.88</td>\n",
       "      <td>110634.0</td>\n",
       "      <td>39570.0</td>\n",
       "      <td>0</td>\n",
       "      <td>...</td>\n",
       "      <td>0</td>\n",
       "      <td>0</td>\n",
       "      <td>0</td>\n",
       "      <td>0</td>\n",
       "      <td>0</td>\n",
       "      <td>1</td>\n",
       "      <td>0</td>\n",
       "      <td>0</td>\n",
       "      <td>0</td>\n",
       "      <td>0.357666</td>\n",
       "    </tr>\n",
       "    <tr>\n",
       "      <th>3</th>\n",
       "      <td>1</td>\n",
       "      <td>2022-06-01 03:00:00</td>\n",
       "      <td>16.7</td>\n",
       "      <td>0.0</td>\n",
       "      <td>1.4</td>\n",
       "      <td>48.0</td>\n",
       "      <td>953.76</td>\n",
       "      <td>110634.0</td>\n",
       "      <td>39570.0</td>\n",
       "      <td>0</td>\n",
       "      <td>...</td>\n",
       "      <td>0</td>\n",
       "      <td>0</td>\n",
       "      <td>0</td>\n",
       "      <td>0</td>\n",
       "      <td>0</td>\n",
       "      <td>1</td>\n",
       "      <td>0</td>\n",
       "      <td>0</td>\n",
       "      <td>0</td>\n",
       "      <td>0.357666</td>\n",
       "    </tr>\n",
       "    <tr>\n",
       "      <th>4</th>\n",
       "      <td>1</td>\n",
       "      <td>2022-06-01 04:00:00</td>\n",
       "      <td>18.4</td>\n",
       "      <td>0.0</td>\n",
       "      <td>2.8</td>\n",
       "      <td>43.0</td>\n",
       "      <td>986.40</td>\n",
       "      <td>110634.0</td>\n",
       "      <td>39570.0</td>\n",
       "      <td>0</td>\n",
       "      <td>...</td>\n",
       "      <td>0</td>\n",
       "      <td>0</td>\n",
       "      <td>0</td>\n",
       "      <td>0</td>\n",
       "      <td>0</td>\n",
       "      <td>1</td>\n",
       "      <td>0</td>\n",
       "      <td>0</td>\n",
       "      <td>0</td>\n",
       "      <td>0.357666</td>\n",
       "    </tr>\n",
       "  </tbody>\n",
       "</table>\n",
       "<p>5 rows × 31 columns</p>\n",
       "</div>"
      ],
      "text/plain": [
       "   building_number           date_time  temperature  rainfall  windspeed  \\\n",
       "0                1 2022-06-01 00:00:00         18.6       0.0        0.9   \n",
       "1                1 2022-06-01 01:00:00         18.0       0.0        1.1   \n",
       "2                1 2022-06-01 02:00:00         17.7       0.0        1.5   \n",
       "3                1 2022-06-01 03:00:00         16.7       0.0        1.4   \n",
       "4                1 2022-06-01 04:00:00         18.4       0.0        2.8   \n",
       "\n",
       "   humidity  power_consumption  total_area  cooling_area solar_power_capacity  \\\n",
       "0      42.0            1085.28    110634.0       39570.0                    0   \n",
       "1      45.0            1047.36    110634.0       39570.0                    0   \n",
       "2      45.0             974.88    110634.0       39570.0                    0   \n",
       "3      48.0             953.76    110634.0       39570.0                    0   \n",
       "4      43.0             986.40    110634.0       39570.0                    0   \n",
       "\n",
       "   ... building_type_Department Store and Outlet building_type_Discount Mart  \\\n",
       "0  ...                                         0                           0   \n",
       "1  ...                                         0                           0   \n",
       "2  ...                                         0                           0   \n",
       "3  ...                                         0                           0   \n",
       "4  ...                                         0                           0   \n",
       "\n",
       "   building_type_Hospital  building_type_Hotel and Resort  \\\n",
       "0                       0                               0   \n",
       "1                       0                               0   \n",
       "2                       0                               0   \n",
       "3                       0                               0   \n",
       "4                       0                               0   \n",
       "\n",
       "   building_type_Knowledge Industry Center  building_type_Other Buildings  \\\n",
       "0                                        0                              1   \n",
       "1                                        0                              1   \n",
       "2                                        0                              1   \n",
       "3                                        0                              1   \n",
       "4                                        0                              1   \n",
       "\n",
       "   building_type_Public  building_type_Research Institute  \\\n",
       "0                     0                                 0   \n",
       "1                     0                                 0   \n",
       "2                     0                                 0   \n",
       "3                     0                                 0   \n",
       "4                     0                                 0   \n",
       "\n",
       "   building_type_University        AR  \n",
       "0                         0  0.357666  \n",
       "1                         0  0.357666  \n",
       "2                         0  0.357666  \n",
       "3                         0  0.357666  \n",
       "4                         0  0.357666  \n",
       "\n",
       "[5 rows x 31 columns]"
      ]
     },
     "execution_count": 65,
     "metadata": {},
     "output_type": "execute_result"
    }
   ],
   "source": [
    "train_df.head()"
   ]
  },
  {
   "cell_type": "markdown",
   "id": "768862c4-be30-462b-86df-01627a5f97f8",
   "metadata": {},
   "source": [
    "## Regression Model Fit"
   ]
  },
  {
   "cell_type": "code",
   "execution_count": 66,
   "id": "4240488f-4a04-405b-9af9-257c4b9487d2",
   "metadata": {},
   "outputs": [],
   "source": [
    "train_df.drop(columns=['date_time'], inplace=True)"
   ]
  },
  {
   "cell_type": "code",
   "execution_count": 67,
   "id": "1e9404dd-ed83-436d-a23d-70d29fe9c162",
   "metadata": {},
   "outputs": [],
   "source": [
    "test_df.drop(columns=['date_time'], inplace=True)"
   ]
  },
  {
   "cell_type": "code",
   "execution_count": 68,
   "id": "eb322cbe-1ac0-412a-a9db-c06ec0d5cc0c",
   "metadata": {},
   "outputs": [],
   "source": [
    "train_df.drop(columns=['week'], inplace=True)"
   ]
  },
  {
   "cell_type": "code",
   "execution_count": 69,
   "id": "0413ad6d-26f5-43ff-bbbe-9f7312ec7136",
   "metadata": {},
   "outputs": [],
   "source": [
    "test_df.drop(columns=['week'], inplace=True)"
   ]
  },
  {
   "cell_type": "code",
   "execution_count": 70,
   "id": "c957d3eb-4d5a-4264-9f61-4897d62262e0",
   "metadata": {},
   "outputs": [],
   "source": [
    "train_x = train_df.drop(columns=['power_consumption'])\n",
    "train_y = train_df['power_consumption']"
   ]
  },
  {
   "cell_type": "markdown",
   "id": "d0573873-a857-4cd5-bf0e-4e387a951a17",
   "metadata": {
    "tags": []
   },
   "source": [
    "### `rf` (Random Forest Regressor)"
   ]
  },
  {
   "cell_type": "code",
   "execution_count": 71,
   "id": "823b5773-ddd3-4a1a-a4a7-e2247039aef2",
   "metadata": {},
   "outputs": [
    {
     "name": "stdout",
     "output_type": "stream",
     "text": [
      "CELL RUN TIME :  193.03836297988892\n"
     ]
    }
   ],
   "source": [
    "cell_start_time = time()\n",
    "\n",
    "model = RandomForestRegressor()\n",
    "model.fit(train_x, train_y)\n",
    "\n",
    "cell_end_time = time()\n",
    "print(\"CELL RUN TIME : \",cell_end_time - cell_start_time)"
   ]
  },
  {
   "cell_type": "markdown",
   "id": "b6e83ee4-4882-477a-b3d6-70cbbc5eb0f3",
   "metadata": {},
   "source": [
    "### XGBoost"
   ]
  },
  {
   "cell_type": "code",
   "execution_count": 72,
   "id": "c2172cb3-2ee8-4d0c-9f2d-9b6bd6ea19d5",
   "metadata": {},
   "outputs": [],
   "source": [
    "# cell_start_time = time()\n",
    "\n",
    "# model = xgb.XGBRegressor()\n",
    "# model.fit(train_x, train_y)\n",
    "\n",
    "# cell_end_time = time()\n",
    "# print(\"CELL RUN TIME : \",cell_end_time - cell_start_time)"
   ]
  },
  {
   "cell_type": "markdown",
   "id": "68e842a2-3eb6-40c6-89e9-a26b00434686",
   "metadata": {},
   "source": [
    "## Model Prediction"
   ]
  },
  {
   "cell_type": "code",
   "execution_count": 73,
   "id": "3698e12d-b1cf-409e-ac80-222c90e74237",
   "metadata": {},
   "outputs": [],
   "source": [
    "test_x = test_df"
   ]
  },
  {
   "cell_type": "code",
   "execution_count": 74,
   "id": "52a70652-aac4-47d4-8558-351d030a36b8",
   "metadata": {},
   "outputs": [],
   "source": [
    "preds = model.predict(test_x)"
   ]
  },
  {
   "cell_type": "markdown",
   "id": "928895e3-ca15-4281-88ec-98c51d4b065f",
   "metadata": {},
   "source": [
    "## Save Model"
   ]
  },
  {
   "cell_type": "code",
   "execution_count": 75,
   "id": "038d7fd0-ff72-45f0-9c82-9246ed127943",
   "metadata": {},
   "outputs": [
    {
     "name": "stdout",
     "output_type": "stream",
     "text": [
      "2023-07-28-162950\n"
     ]
    }
   ],
   "source": [
    "current_str = datetime.now().strftime('%Y-%m-%d-%H%M%S')\n",
    "print(current_str)"
   ]
  },
  {
   "cell_type": "code",
   "execution_count": 76,
   "id": "34263175-43ff-4df1-8646-5e6bf552229d",
   "metadata": {},
   "outputs": [
    {
     "data": {
      "text/plain": [
       "['./model/2023-07-28-162950_Random Forest.joblib']"
      ]
     },
     "execution_count": 76,
     "metadata": {},
     "output_type": "execute_result"
    }
   ],
   "source": [
    "# save\n",
    "joblib.dump(model, f\"./model/{current_str}_Random Forest.joblib\")"
   ]
  },
  {
   "cell_type": "markdown",
   "id": "f91f9017-2cf6-452d-8aa1-48c28e3fb05b",
   "metadata": {},
   "source": [
    "## Load Model"
   ]
  },
  {
   "cell_type": "code",
   "execution_count": 77,
   "id": "7ee62814-1432-47fa-9f3a-d153abbc2510",
   "metadata": {},
   "outputs": [],
   "source": [
    "model = joblib.load(f\"./model/{current_str}_Random Forest.joblib\")"
   ]
  },
  {
   "cell_type": "markdown",
   "id": "30004cb6-4e7b-45d4-ba1b-722b187cafd9",
   "metadata": {},
   "source": [
    "## Submit"
   ]
  },
  {
   "cell_type": "code",
   "execution_count": 78,
   "id": "1a98c1ce-9a5b-42e1-9e11-c052dfdffba7",
   "metadata": {},
   "outputs": [
    {
     "data": {
      "text/html": [
       "<div>\n",
       "<style scoped>\n",
       "    .dataframe tbody tr th:only-of-type {\n",
       "        vertical-align: middle;\n",
       "    }\n",
       "\n",
       "    .dataframe tbody tr th {\n",
       "        vertical-align: top;\n",
       "    }\n",
       "\n",
       "    .dataframe thead th {\n",
       "        text-align: right;\n",
       "    }\n",
       "</style>\n",
       "<table border=\"1\" class=\"dataframe\">\n",
       "  <thead>\n",
       "    <tr style=\"text-align: right;\">\n",
       "      <th></th>\n",
       "      <th>num_date_time</th>\n",
       "      <th>answer</th>\n",
       "    </tr>\n",
       "  </thead>\n",
       "  <tbody>\n",
       "    <tr>\n",
       "      <th>0</th>\n",
       "      <td>1_20220825 00</td>\n",
       "      <td>0</td>\n",
       "    </tr>\n",
       "    <tr>\n",
       "      <th>1</th>\n",
       "      <td>1_20220825 01</td>\n",
       "      <td>0</td>\n",
       "    </tr>\n",
       "    <tr>\n",
       "      <th>2</th>\n",
       "      <td>1_20220825 02</td>\n",
       "      <td>0</td>\n",
       "    </tr>\n",
       "    <tr>\n",
       "      <th>3</th>\n",
       "      <td>1_20220825 03</td>\n",
       "      <td>0</td>\n",
       "    </tr>\n",
       "    <tr>\n",
       "      <th>4</th>\n",
       "      <td>1_20220825 04</td>\n",
       "      <td>0</td>\n",
       "    </tr>\n",
       "    <tr>\n",
       "      <th>...</th>\n",
       "      <td>...</td>\n",
       "      <td>...</td>\n",
       "    </tr>\n",
       "    <tr>\n",
       "      <th>16795</th>\n",
       "      <td>100_20220831 19</td>\n",
       "      <td>0</td>\n",
       "    </tr>\n",
       "    <tr>\n",
       "      <th>16796</th>\n",
       "      <td>100_20220831 20</td>\n",
       "      <td>0</td>\n",
       "    </tr>\n",
       "    <tr>\n",
       "      <th>16797</th>\n",
       "      <td>100_20220831 21</td>\n",
       "      <td>0</td>\n",
       "    </tr>\n",
       "    <tr>\n",
       "      <th>16798</th>\n",
       "      <td>100_20220831 22</td>\n",
       "      <td>0</td>\n",
       "    </tr>\n",
       "    <tr>\n",
       "      <th>16799</th>\n",
       "      <td>100_20220831 23</td>\n",
       "      <td>0</td>\n",
       "    </tr>\n",
       "  </tbody>\n",
       "</table>\n",
       "<p>16800 rows × 2 columns</p>\n",
       "</div>"
      ],
      "text/plain": [
       "         num_date_time  answer\n",
       "0        1_20220825 00       0\n",
       "1        1_20220825 01       0\n",
       "2        1_20220825 02       0\n",
       "3        1_20220825 03       0\n",
       "4        1_20220825 04       0\n",
       "...                ...     ...\n",
       "16795  100_20220831 19       0\n",
       "16796  100_20220831 20       0\n",
       "16797  100_20220831 21       0\n",
       "16798  100_20220831 22       0\n",
       "16799  100_20220831 23       0\n",
       "\n",
       "[16800 rows x 2 columns]"
      ]
     },
     "execution_count": 78,
     "metadata": {},
     "output_type": "execute_result"
    }
   ],
   "source": [
    "submission = pd.read_csv('./data/sample_submission.csv')\n",
    "submission"
   ]
  },
  {
   "cell_type": "code",
   "execution_count": 79,
   "id": "d880a191-44bb-4711-a277-5be21f7aa5a2",
   "metadata": {},
   "outputs": [
    {
     "data": {
      "text/html": [
       "<div>\n",
       "<style scoped>\n",
       "    .dataframe tbody tr th:only-of-type {\n",
       "        vertical-align: middle;\n",
       "    }\n",
       "\n",
       "    .dataframe tbody tr th {\n",
       "        vertical-align: top;\n",
       "    }\n",
       "\n",
       "    .dataframe thead th {\n",
       "        text-align: right;\n",
       "    }\n",
       "</style>\n",
       "<table border=\"1\" class=\"dataframe\">\n",
       "  <thead>\n",
       "    <tr style=\"text-align: right;\">\n",
       "      <th></th>\n",
       "      <th>num_date_time</th>\n",
       "      <th>answer</th>\n",
       "    </tr>\n",
       "  </thead>\n",
       "  <tbody>\n",
       "    <tr>\n",
       "      <th>0</th>\n",
       "      <td>1_20220825 00</td>\n",
       "      <td>2142.3744</td>\n",
       "    </tr>\n",
       "    <tr>\n",
       "      <th>1</th>\n",
       "      <td>1_20220825 01</td>\n",
       "      <td>2139.8880</td>\n",
       "    </tr>\n",
       "    <tr>\n",
       "      <th>2</th>\n",
       "      <td>1_20220825 02</td>\n",
       "      <td>1995.8400</td>\n",
       "    </tr>\n",
       "    <tr>\n",
       "      <th>3</th>\n",
       "      <td>1_20220825 03</td>\n",
       "      <td>1992.7296</td>\n",
       "    </tr>\n",
       "    <tr>\n",
       "      <th>4</th>\n",
       "      <td>1_20220825 04</td>\n",
       "      <td>2026.3440</td>\n",
       "    </tr>\n",
       "    <tr>\n",
       "      <th>...</th>\n",
       "      <td>...</td>\n",
       "      <td>...</td>\n",
       "    </tr>\n",
       "    <tr>\n",
       "      <th>16795</th>\n",
       "      <td>100_20220831 19</td>\n",
       "      <td>861.2712</td>\n",
       "    </tr>\n",
       "    <tr>\n",
       "      <th>16796</th>\n",
       "      <td>100_20220831 20</td>\n",
       "      <td>783.0888</td>\n",
       "    </tr>\n",
       "    <tr>\n",
       "      <th>16797</th>\n",
       "      <td>100_20220831 21</td>\n",
       "      <td>757.4424</td>\n",
       "    </tr>\n",
       "    <tr>\n",
       "      <th>16798</th>\n",
       "      <td>100_20220831 22</td>\n",
       "      <td>687.0360</td>\n",
       "    </tr>\n",
       "    <tr>\n",
       "      <th>16799</th>\n",
       "      <td>100_20220831 23</td>\n",
       "      <td>581.2404</td>\n",
       "    </tr>\n",
       "  </tbody>\n",
       "</table>\n",
       "<p>16800 rows × 2 columns</p>\n",
       "</div>"
      ],
      "text/plain": [
       "         num_date_time     answer\n",
       "0        1_20220825 00  2142.3744\n",
       "1        1_20220825 01  2139.8880\n",
       "2        1_20220825 02  1995.8400\n",
       "3        1_20220825 03  1992.7296\n",
       "4        1_20220825 04  2026.3440\n",
       "...                ...        ...\n",
       "16795  100_20220831 19   861.2712\n",
       "16796  100_20220831 20   783.0888\n",
       "16797  100_20220831 21   757.4424\n",
       "16798  100_20220831 22   687.0360\n",
       "16799  100_20220831 23   581.2404\n",
       "\n",
       "[16800 rows x 2 columns]"
      ]
     },
     "execution_count": 79,
     "metadata": {},
     "output_type": "execute_result"
    }
   ],
   "source": [
    "submission['answer'] = preds\n",
    "submission"
   ]
  },
  {
   "cell_type": "code",
   "execution_count": 80,
   "id": "c9b74fb4-62de-4146-b5d1-74344d5874a6",
   "metadata": {},
   "outputs": [],
   "source": [
    "submission.to_csv(f'./{current_str}_Random Forest.csv', index=False)"
   ]
  },
  {
   "cell_type": "code",
   "execution_count": null,
   "id": "05a25d43-5518-4d92-9a0c-b50b9778e9dd",
   "metadata": {},
   "outputs": [],
   "source": []
  }
 ],
 "metadata": {
  "kernelspec": {
   "display_name": "Python 3 (ipykernel)",
   "language": "python",
   "name": "python3"
  },
  "language_info": {
   "codemirror_mode": {
    "name": "ipython",
    "version": 3
   },
   "file_extension": ".py",
   "mimetype": "text/x-python",
   "name": "python",
   "nbconvert_exporter": "python",
   "pygments_lexer": "ipython3",
   "version": "3.8.10"
  }
 },
 "nbformat": 4,
 "nbformat_minor": 5
}
